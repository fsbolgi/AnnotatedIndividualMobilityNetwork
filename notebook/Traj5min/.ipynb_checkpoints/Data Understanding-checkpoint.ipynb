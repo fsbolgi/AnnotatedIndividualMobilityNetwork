{
 "cells": [
  {
   "cell_type": "markdown",
   "metadata": {},
   "source": [
    "# DATA UNDERSTANDING ANALYSIS ON THE VODAFONE TRAJ 5 MIN TABLE"
   ]
  },
  {
   "cell_type": "markdown",
   "metadata": {},
   "source": [
    "**IMPORT LIBRARIES**"
   ]
  },
  {
   "cell_type": "code",
   "execution_count": 1,
   "metadata": {},
   "outputs": [],
   "source": [
    "# psycopg2 is a library to execute sql queries in python\n",
    "import psycopg2\n",
    "# folium allows to visualize geolocalized data with the jupyter notebook\n",
    "import folium\n",
    "from folium.plugins import MarkerCluster\n",
    "# sys is required to use the open function to write on file\n",
    "import sys\n",
    "# pandas is needed to read the csv file and to perform some basic operations on dataframes\n",
    "import pandas as pd\n",
    "# matplotlib is used to draw graphs\n",
    "import matplotlib.pyplot as plt\n",
    "# numpy is for scinetific computations\n",
    "import numpy as np\n",
    "# ST_AsGeoJSON returns a json object, so we can use json.load to parse it\n",
    "import json"
   ]
  },
  {
   "cell_type": "markdown",
   "metadata": {},
   "source": [
    "**CONNECT TO THE DATASET**"
   ]
  },
  {
   "cell_type": "code",
   "execution_count": 2,
   "metadata": {},
   "outputs": [],
   "source": [
    "conn = psycopg2.connect(\"dbname=irpet\", host=\"146.48.83.137\", user=\"sbolgi\", password=\"sbolgi2019\", port=\"5435\")\n",
    "\n",
    "# the cursor allows Python code to execute PostgreSQL command in a database session.\n",
    "cur = conn.cursor()"
   ]
  },
  {
   "cell_type": "markdown",
   "metadata": {},
   "source": [
    "Some vehicles IDs are: \n",
    "- \"14710_129450\", Van\n",
    "- \"3270_79350\", Van\n",
    "- \"4550_88640\", Van\n",
    "\n",
    "\n",
    "- \"10010_157940\", Truck 3\n",
    "- \"10020_95210\", Truck 3\n",
    "\n",
    "\n",
    "- \"10320_103980\", Truck 3 ax.\n",
    "- \"11150_103360\", Truck 3 ax.\n",
    "\n",
    "\n",
    "- \"2430_102500\", Fridge Truck\n",
    "- \"2430_157510\", Fridge Truck\n",
    "\n",
    "\n",
    "- \"11510_80900\", Flatbed truck\n",
    "- \"18950_125130\", Flatbed truck\n",
    "\n",
    "\n",
    "- \"19090_162810\", Truck\n",
    "- \"7070_95780\", Truck"
   ]
  },
  {
   "cell_type": "markdown",
   "metadata": {},
   "source": [
    "## WARNING! Do not run each time, very long!"
   ]
  },
  {
   "cell_type": "markdown",
   "metadata": {},
   "source": [
    "**Count the number of trajectories**"
   ]
  },
  {
   "cell_type": "code",
   "execution_count": 4,
   "metadata": {},
   "outputs": [],
   "source": [
    "cur.execute(\"SELECT count(*) FROM tak.vodafone_zel1_traj_5min\")"
   ]
  },
  {
   "cell_type": "code",
   "execution_count": 5,
   "metadata": {},
   "outputs": [
    {
     "name": "stdout",
     "output_type": "stream",
     "text": [
      "There are (24263024,) different trajectories.\n"
     ]
    }
   ],
   "source": [
    "for f in cur:\n",
    "    print(\"There are\", f, \"different trajectories.\")"
   ]
  },
  {
   "cell_type": "markdown",
   "metadata": {},
   "source": [
    "**Count the number of distinct vehicles**"
   ]
  },
  {
   "cell_type": "code",
   "execution_count": 6,
   "metadata": {},
   "outputs": [],
   "source": [
    "cur.execute(\"SELECT count( distinct (vehicle)) FROM tak.vodafone_zel1_traj_5min\")"
   ]
  },
  {
   "cell_type": "code",
   "execution_count": 7,
   "metadata": {},
   "outputs": [
    {
     "name": "stdout",
     "output_type": "stream",
     "text": [
      "Those trajectories are performed by (6558,) different vehicles.\n"
     ]
    }
   ],
   "source": [
    "for f in cur:\n",
    "    print(\"Those trajectories are performed by\", f, \"different vehicles.\")"
   ]
  },
  {
   "cell_type": "markdown",
   "metadata": {},
   "source": [
    "**Count the number of distinct companies**"
   ]
  },
  {
   "cell_type": "code",
   "execution_count": 8,
   "metadata": {},
   "outputs": [],
   "source": [
    "cur.execute(\"SELECT count( distinct (company)) FROM tak.vodafone_zel1_traj_5min\")"
   ]
  },
  {
   "cell_type": "code",
   "execution_count": 9,
   "metadata": {},
   "outputs": [
    {
     "name": "stdout",
     "output_type": "stream",
     "text": [
      "The vehicles belog to  (1859,) different companies.\n"
     ]
    }
   ],
   "source": [
    "for f in cur:\n",
    "    print(\"The vehicles belog to \", f, \"different companies.\")"
   ]
  },
  {
   "cell_type": "markdown",
   "metadata": {},
   "source": [
    "**Count and print the values of distinct vehicletypes**"
   ]
  },
  {
   "cell_type": "code",
   "execution_count": 10,
   "metadata": {},
   "outputs": [],
   "source": [
    "cur.execute(\"SELECT distinct (vehicletype) FROM tak.vodafone_zel1_traj_5min\")"
   ]
  },
  {
   "cell_type": "code",
   "execution_count": 11,
   "metadata": {},
   "outputs": [
    {
     "name": "stdout",
     "output_type": "stream",
     "text": [
      "The list of possible vehicle types is\n",
      "('Van',)\n",
      "('Fridge truck',)\n",
      "('Truck',)\n",
      "('Truck 3 ax.',)\n",
      "('Truck 3',)\n",
      "('Flatbed truck',)\n"
     ]
    }
   ],
   "source": [
    "print(\"The list of possible vehicle types is\")\n",
    "\n",
    "for f in cur:\n",
    "    print(f)"
   ]
  },
  {
   "cell_type": "code",
   "execution_count": 50,
   "metadata": {},
   "outputs": [],
   "source": [
    "cur.execute(\"SELECT vehicletype, COUNT(*) as count FROM tak.vodafone_zel1_traj_5min GROUP BY vehicletype ORDER BY count DESC\")"
   ]
  },
  {
   "cell_type": "code",
   "execution_count": 51,
   "metadata": {},
   "outputs": [],
   "source": [
    "ar = []\n",
    "\n",
    "for f in cur:\n",
    "    ar.append(list(f))"
   ]
  },
  {
   "cell_type": "code",
   "execution_count": 52,
   "metadata": {},
   "outputs": [
    {
     "data": {
      "text/plain": [
       "[['Van', 14851443],\n",
       " ['Truck 3', 7815622],\n",
       " ['Truck 3 ax.', 1556503],\n",
       " ['Fridge truck', 19843],\n",
       " ['Flatbed truck', 15951],\n",
       " ['Truck', 3662]]"
      ]
     },
     "execution_count": 52,
     "metadata": {},
     "output_type": "execute_result"
    }
   ],
   "source": [
    "ar"
   ]
  },
  {
   "cell_type": "code",
   "execution_count": 87,
   "metadata": {},
   "outputs": [
    {
     "data": {
      "image/png": "[encoded data removed]",
      "text/plain": [
       "<Figure size 504x504 with 1 Axes>"
      ]
     },
     "metadata": {},
     "output_type": "display_data"
    }
   ],
   "source": [
    "fig = plt.figure(figsize=(7, 7)) \n",
    "fig_dims = (1, 1)\n",
    "\n",
    "ax = plt.subplot2grid(fig_dims, (0, 0))\n",
    "labels = 'Van', 'Truck 3','Truck 3 ax.', 'Others'\n",
    "sizes = [14851443, 7815622, 1556503, 39.456]\n",
    "explode = (0.01, 0.05, 0.1, 0.2)\n",
    "c = [\"#488286\", \"#FB4D3D\", \"#03CEA4\", \"#EAC435\"]\n",
    "inside, texts, ltexts = ax.pie(sizes, explode=explode, labels=labels, autopct='%1.1f%%', shadow=True, startangle=50, colors=c)\n",
    "for i in range(len(texts)):\n",
    "    texts[i].set_fontsize(13)\n",
    "    ltexts[i].set_fontsize(13)\n",
    "ax.axis('equal') \n",
    "\n",
    "plt.savefig('../../../thesis/images/Traj5_vehicletype.png', format='png', bbox_inches='tight')"
   ]
  },
  {
   "cell_type": "markdown",
   "metadata": {},
   "source": [
    "**Find the max length of a trajectory performed by any vehicle**"
   ]
  },
  {
   "cell_type": "code",
   "execution_count": 12,
   "metadata": {},
   "outputs": [],
   "source": [
    "cur.execute(\"SELECT max(length) FROM tak.vodafone_zel1_traj_5min\")"
   ]
  },
  {
   "cell_type": "code",
   "execution_count": 13,
   "metadata": {},
   "outputs": [
    {
     "name": "stdout",
     "output_type": "stream",
     "text": [
      "The longest trajectory ever performed lasted for (Decimal('1590.9260644257565'),) km\n"
     ]
    }
   ],
   "source": [
    "for f in cur:\n",
    "    print(\"The longest trajectory ever performed lasted for\", f, \"km\")"
   ]
  },
  {
   "cell_type": "markdown",
   "metadata": {},
   "source": [
    "**Find the max duration of a trajectory performed by any vehicle**"
   ]
  },
  {
   "cell_type": "code",
   "execution_count": 14,
   "metadata": {},
   "outputs": [],
   "source": [
    "cur.execute(\"SELECT max(duration) FROM tak.vodafone_zel1_traj_5min\")"
   ]
  },
  {
   "cell_type": "code",
   "execution_count": 15,
   "metadata": {},
   "outputs": [
    {
     "name": "stdout",
     "output_type": "stream",
     "text": [
      "The longest trajectory ever performed lasted for (Decimal('115133.53'),) seconds\n"
     ]
    }
   ],
   "source": [
    "for f in cur:\n",
    "    print(\"The longest trajectory ever performed lasted for\", f, \"seconds\")"
   ]
  },
  {
   "cell_type": "markdown",
   "metadata": {},
   "source": [
    "**Find the timestamp for the first trajectory point recorded**"
   ]
  },
  {
   "cell_type": "code",
   "execution_count": 16,
   "metadata": {},
   "outputs": [],
   "source": [
    "cur.execute(\"SELECT min(start_time) FROM tak.vodafone_zel1_traj_5min\")"
   ]
  },
  {
   "cell_type": "code",
   "execution_count": 17,
   "metadata": {},
   "outputs": [
    {
     "name": "stdout",
     "output_type": "stream",
     "text": [
      "The first point recorded was on the (datetime.datetime(2017, 6, 1, 0, 0),)\n"
     ]
    }
   ],
   "source": [
    "for f in cur:\n",
    "    print(\"The first point recorded was on the\", f)"
   ]
  },
  {
   "cell_type": "markdown",
   "metadata": {},
   "source": [
    "**Find the timestamp for the last trajectory point recorded**"
   ]
  },
  {
   "cell_type": "code",
   "execution_count": 18,
   "metadata": {},
   "outputs": [],
   "source": [
    "cur.execute(\"SELECT max(end_time) FROM tak.vodafone_zel1_traj_5min\")"
   ]
  },
  {
   "cell_type": "code",
   "execution_count": 19,
   "metadata": {},
   "outputs": [
    {
     "name": "stdout",
     "output_type": "stream",
     "text": [
      "The last point recorded was on the (datetime.datetime(2018, 6, 30, 23, 59, 59),)\n"
     ]
    }
   ],
   "source": [
    "for f in cur:\n",
    "    print(\"The last point recorded was on the\", f)"
   ]
  },
  {
   "cell_type": "code",
   "execution_count": null,
   "metadata": {},
   "outputs": [],
   "source": []
  },
  {
   "cell_type": "markdown",
   "metadata": {},
   "source": [
    "### !! CLOSE THE CONNECTION WHEN YOU FINISH !!"
   ]
  },
  {
   "cell_type": "code",
   "execution_count": 1,
   "metadata": {},
   "outputs": [
    {
     "ename": "NameError",
     "evalue": "name 'conn' is not defined",
     "output_type": "error",
     "traceback": [
      "\u001b[1;31m---------------------------------------------------------------------------\u001b[0m",
      "\u001b[1;31mNameError\u001b[0m                                 Traceback (most recent call last)",
      "\u001b[1;32m<ipython-input-1-8dd0cd799055>\u001b[0m in \u001b[0;36m<module>\u001b[1;34m\u001b[0m\n\u001b[1;32m----> 1\u001b[1;33m \u001b[0mconn\u001b[0m\u001b[1;33m.\u001b[0m\u001b[0mclose\u001b[0m\u001b[1;33m(\u001b[0m\u001b[1;33m)\u001b[0m\u001b[1;33m\u001b[0m\u001b[1;33m\u001b[0m\u001b[0m\n\u001b[0m",
      "\u001b[1;31mNameError\u001b[0m: name 'conn' is not defined"
     ]
    }
   ],
   "source": [
    "conn.close()"
   ]
  },
  {
   "cell_type": "code",
   "execution_count": null,
   "metadata": {},
   "outputs": [],
   "source": []
  }
 ],
 "metadata": {
  "kernelspec": {
   "display_name": "Python 3",
   "language": "python",
   "name": "python3"
  },
  "language_info": {
   "codemirror_mode": {
    "name": "ipython",
    "version": 3
   },
   "file_extension": ".py",
   "mimetype": "text/x-python",
   "name": "python",
   "nbconvert_exporter": "python",
   "pygments_lexer": "ipython3",
   "version": "3.7.3"
  }
 },
 "nbformat": 4,
 "nbformat_minor": 2
}
