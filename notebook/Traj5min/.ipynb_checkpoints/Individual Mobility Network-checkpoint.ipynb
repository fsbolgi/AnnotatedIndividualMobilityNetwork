{
 "cells": [
  {
   "cell_type": "markdown",
   "metadata": {},
   "source": [
    "# INDIVIDUAL MOBILITY NETWORK"
   ]
  },
  {
   "cell_type": "markdown",
   "metadata": {},
   "source": [
    "### IMPORT LIBRARIES"
   ]
  },
  {
   "cell_type": "code",
   "execution_count": 1,
   "metadata": {},
   "outputs": [],
   "source": [
    "import numpy as np\n",
    "import folium\n",
    "import networkx as nx\n",
    "import json\n",
    "import matplotlib.pyplot as plt\n",
    "from networkx.readwrite import json_graph\n",
    "import pickle\n",
    "from matplotlib import cm as cm\n",
    "import pydot \n",
    "from networkx.drawing.nx_agraph import write_dot\n",
    "import pandas as pd\n",
    "\n",
    "%matplotlib inline"
   ]
  },
  {
   "cell_type": "markdown",
   "metadata": {},
   "source": [
    "#### Define the parameters to select the correct area and time period"
   ]
  },
  {
   "cell_type": "code",
   "execution_count": 88,
   "metadata": {},
   "outputs": [],
   "source": [
    "stop = '5'\n",
    "id_area = '2'\n",
    "month =  '9'\n",
    "n_months = '2'\n",
    "week = '0'\n",
    "\n",
    "month_code = month\n",
    "if n_months != \"1\":\n",
    "    for m in range(1, int(n_months)):\n",
    "        month_code += \"_\" + str(int(month)+m)"
   ]
  },
  {
   "cell_type": "code",
   "execution_count": 89,
   "metadata": {},
   "outputs": [],
   "source": [
    "vehicles = ['7410_74050', '15000_131630', '11770_93490'] ## area 2\n",
    "# vehicles = ['14550_128520', '8240_96240', '800_13540'] ## area 11"
   ]
  },
  {
   "cell_type": "markdown",
   "metadata": {},
   "source": [
    "#### Open the dataframe of the location features"
   ]
  },
  {
   "cell_type": "code",
   "execution_count": 90,
   "metadata": {},
   "outputs": [],
   "source": [
    "path = '../../../datasets/out/Traj'+stop+'min/'\n",
    "file_name_in = 'imn_light_area'+id_area+'_month'+month_code+'_week'+ week\n",
    "file_name_out = '_area'+id_area+'_month'+month_code+'_week'+ week"
   ]
  },
  {
   "cell_type": "markdown",
   "metadata": {},
   "source": [
    "#### Function to load the light imn"
   ]
  },
  {
   "cell_type": "code",
   "execution_count": 5,
   "metadata": {},
   "outputs": [],
   "source": [
    "def open_file(path_file):\n",
    "    with open(path_file+'.json', 'r') as f:\n",
    "        file_j = json.load(f)\n",
    "        return file_j"
   ]
  },
  {
   "cell_type": "markdown",
   "metadata": {},
   "source": [
    "#### Transform the json graph into a networkx friendly"
   ]
  },
  {
   "cell_type": "code",
   "execution_count": 6,
   "metadata": {},
   "outputs": [],
   "source": [
    "def from_imn_to_graph(g):\n",
    "    return json_graph.node_link_graph(g, attrs={'link': 'edges', 'source': 'from', 'target': 'to'})"
   ]
  },
  {
   "cell_type": "markdown",
   "metadata": {},
   "source": [
    "#### Translate a value from a range (min_w, max_w) to a range (a, b)"
   ]
  },
  {
   "cell_type": "code",
   "execution_count": 7,
   "metadata": {},
   "outputs": [],
   "source": [
    "def translate(value, min_w, max_w, a, b):\n",
    "    # Figure out how 'wide' each range is\n",
    "    diff = max_w - min_w\n",
    "    span = b - a\n",
    "\n",
    "    if diff != 0:\n",
    "        # Convert the left range into a 0-1 range (float)\n",
    "        v_scaled = float(value - min_w) / float(diff)\n",
    "\n",
    "        # Convert the 0-1 range into a value in the right range.\n",
    "        return a + (v_scaled * span)\n",
    "    else:\n",
    "        return value"
   ]
  },
  {
   "cell_type": "markdown",
   "metadata": {},
   "source": [
    "#### Scale the egdes weight in the range (0.3, 9.0)"
   ]
  },
  {
   "cell_type": "code",
   "execution_count": 8,
   "metadata": {},
   "outputs": [],
   "source": [
    "def scale_weights(edges):\n",
    "    w = []\n",
    "    for e in edges:\n",
    "        w.append(e[\"weight\"])\n",
    "\n",
    "    min_w = min(w)\n",
    "    max_w = max(w)\n",
    "    r = float(max_w - min_w)\n",
    "    return [translate(wi, min_w, max_w, 0.3, 10) for wi in w]"
   ]
  },
  {
   "cell_type": "markdown",
   "metadata": {},
   "source": [
    "#### Extract the nodes size (using the support of the location)"
   ]
  },
  {
   "cell_type": "code",
   "execution_count": 9,
   "metadata": {},
   "outputs": [],
   "source": [
    "def nodes_sizes(imn):\n",
    "    nodes_s = []\n",
    "    \n",
    "    loc_feat = imn[\"location_features\"]\n",
    "    locs = list(loc_feat.keys())\n",
    "    for l in locs:\n",
    "        loc_info = loc_feat[str(l)]\n",
    "        if \"loc_support\" in loc_info:\n",
    "            nodes_s.append(loc_info[\"loc_support\"])\n",
    "        else:\n",
    "            nodes_s.append(0)\n",
    "    return nodes_s"
   ]
  },
  {
   "cell_type": "markdown",
   "metadata": {},
   "source": [
    "#### Scale the nodes size in the range (400, 1500)"
   ]
  },
  {
   "cell_type": "code",
   "execution_count": 10,
   "metadata": {},
   "outputs": [],
   "source": [
    "def scale_nodes(nodes):\n",
    "    min_n = min(nodes)\n",
    "    max_n = max(nodes)\n",
    "    r = float(max_n - min_n)\n",
    "    return [translate(ni, min_n, max_n, 500, 2000) for ni in nodes]"
   ]
  },
  {
   "cell_type": "markdown",
   "metadata": {},
   "source": [
    "#### Draw the imn using networkx"
   ]
  },
  {
   "cell_type": "code",
   "execution_count": 11,
   "metadata": {},
   "outputs": [],
   "source": [
    "def draw_imn(v, G, nodes_s, w_scaled, file_name_in):\n",
    "    options = {\n",
    "        'node_color': 'black',\n",
    "        'font_color': \"white\",\n",
    "        'font_size': 13,\n",
    "        'arrows': False,\n",
    "        'font_weight': \"bold\"\n",
    "    }\n",
    "    fig = plt.figure(figsize=(20, 20)) \n",
    "\n",
    "    nx.draw_circular(G, with_labels=True, node_size=nodes_s, width=w_scaled, **options)\n",
    "    plt.savefig('../../../thesis/images/'+file_name_in+'_'+v+'.png', format='png', bbox_inches='tight')\n",
    "    plt.close(fig)"
   ]
  },
  {
   "cell_type": "markdown",
   "metadata": {},
   "source": [
    "#### For each vehicle compute the imn and store the result"
   ]
  },
  {
   "cell_type": "code",
   "execution_count": 12,
   "metadata": {},
   "outputs": [],
   "source": [
    "def store_imns(path, file_name_in):\n",
    "    f = open_file(path+file_name_in)\n",
    "    print(\"There are\", len(list(f)), \"vehicles.\")\n",
    "    \n",
    "    for v in vehicles:\n",
    "        g = f[v][\"graph\"]\n",
    "        G = from_imn_to_graph(g)\n",
    "        \n",
    "        w_scaled = scale_weights(g[\"edges\"])\n",
    "        \n",
    "        nodes_order = G.nodes\n",
    "        nodes_weights = scale_nodes(nodes_sizes(f[v]))\n",
    "\n",
    "        nodes_ordered = []\n",
    "        for pos in nodes_order:\n",
    "            nodes_ordered.append(nodes_weights[pos])\n",
    "        \n",
    "        draw_imn(v, G, nodes_ordered, w_scaled, file_name_in)"
   ]
  },
  {
   "cell_type": "markdown",
   "metadata": {},
   "source": [
    "#### Compute some statistics on the imns"
   ]
  },
  {
   "cell_type": "code",
   "execution_count": 13,
   "metadata": {},
   "outputs": [],
   "source": [
    "def imn_stats(path, file_name_in):\n",
    "    f = open_file(path+file_name_in)\n",
    "    \n",
    "    n_nodes = []\n",
    "    n_edges = []\n",
    "    densities = []\n",
    "    clust_coeff = []\n",
    "    degree_centrality = []\n",
    "    avg_node_degree = []\n",
    "    \n",
    "    for v in list(f):\n",
    "        g = f[v][\"graph\"]\n",
    "        G = from_imn_to_graph(g)\n",
    "        \n",
    "        n_nodes.append(len(G.nodes))\n",
    "        n_edges.append(len(G.edges))\n",
    "        densities.append(nx.density(G))\n",
    "        clust_coeff.append(nx.average_clustering(G))\n",
    "        degree_centrality.append(np.mean(list(nx.degree_centrality(G).values())))\n",
    "        degree_list = [d[1] for d in G.degree]\n",
    "        avg_node_degree.append(np.mean(degree_list))\n",
    "        \n",
    "    print(\"mean(n_nodes)\", np.mean(n_nodes))\n",
    "    print(\"std(n_nodes)\", np.std(n_nodes))\n",
    "    print(\"mean(n_edges)\", np.mean(n_edges))\n",
    "    print(\"std(n_edges)\", np.std(n_edges))\n",
    "    print(\"mean(densities)\", np.mean(densities))\n",
    "    print(\"std(densities)\", np.std(densities))\n",
    "    print(\"mean(clust_coeff)\", np.mean(clust_coeff))\n",
    "    print(\"std(clust_coeff)\", np.std(clust_coeff))\n",
    "    print(\"mean(degree_centrality)\", np.mean(degree_centrality))\n",
    "    print(\"std(degree_centrality)\", np.std(degree_centrality))\n",
    "    print(\"mean(avg_node_degree)\", np.mean(avg_node_degree))\n",
    "    print(\"std(avg_node_degree)\", np.std(avg_node_degree))"
   ]
  },
  {
   "cell_type": "code",
   "execution_count": 14,
   "metadata": {
    "scrolled": true
   },
   "outputs": [
    {
     "name": "stdout",
     "output_type": "stream",
     "text": [
      "There are 712 vehicles.\n"
     ]
    }
   ],
   "source": [
    "store_imns(path, file_name_in)"
   ]
  },
  {
   "cell_type": "code",
   "execution_count": 15,
   "metadata": {},
   "outputs": [
    {
     "name": "stdout",
     "output_type": "stream",
     "text": [
      "mean(n_nodes) 96.8497191011236\n",
      "std(n_nodes) 74.98624330711837\n",
      "mean(n_edges) 270.47331460674155\n",
      "std(n_edges) 190.32791592413506\n",
      "mean(densities) 0.0746126383402928\n",
      "std(densities) 0.1596485430434306\n",
      "mean(clust_coeff) 0.19369042124941424\n",
      "std(clust_coeff) 0.13846522227505342\n",
      "mean(degree_centrality) 0.1492252766805856\n",
      "std(degree_centrality) 0.3192970860868612\n",
      "mean(avg_node_degree) 5.783894980888153\n",
      "std(avg_node_degree) 1.460003120930333\n"
     ]
    }
   ],
   "source": [
    "imn_stats(path, file_name_in)"
   ]
  },
  {
   "cell_type": "code",
   "execution_count": null,
   "metadata": {},
   "outputs": [],
   "source": [
    "# ######### TO DRAW SINGLE IMN WITH WHITE NODES\n",
    "\n",
    "# f = open_file(path+file_name_in)\n",
    "# v = \"16020_139450\"\n",
    "# g = f[v][\"graph\"]\n",
    "# G = from_imn_to_graph(g)\n",
    "\n",
    "# w_scaled = scale_weights(g[\"edges\"])\n",
    "\n",
    "# nodes_order = G.nodes\n",
    "# nodes_weights = scale_nodes(nodes_sizes(f[v]))\n",
    "\n",
    "# nodes_ordered = []\n",
    "# for pos in nodes_order:\n",
    "#     nodes_ordered.append(nodes_weights[pos])\n",
    "\n",
    "# draw_imn(v, G, nodes_ordered, w_scaled, file_name_in+\"JJJ\")"
   ]
  },
  {
   "cell_type": "markdown",
   "metadata": {},
   "source": [
    "# SEMANTIC INDIVIDUAL MOBILITY NETWORK"
   ]
  },
  {
   "cell_type": "markdown",
   "metadata": {},
   "source": [
    "#### Define a new function to draw the sem imn, so the same graphs but with the nodes colored according to the cluster"
   ]
  },
  {
   "cell_type": "code",
   "execution_count": 67,
   "metadata": {},
   "outputs": [],
   "source": [
    "def draw_sem_imn(v, G, color_nodes, nodes_s, w_scaled, file_name_in):\n",
    "    options = {\n",
    "        'node_color': color_nodes,\n",
    "        'font_color': \"black\",\n",
    "        'font_size': 13,\n",
    "        'arrows': False,\n",
    "        'font_weight': \"bold\"\n",
    "    }\n",
    "    fig = plt.figure(figsize=(20, 20)) \n",
    "\n",
    "    nx.draw_circular(G, with_labels=True, node_size=nodes_s, width=w_scaled, **options)\n",
    "    plt.savefig('../../../thesis/images/sem_imn_'+file_name_out+'_'+v+'.png', format='png', bbox_inches='tight')\n",
    "    plt.close(fig)"
   ]
  },
  {
   "cell_type": "markdown",
   "metadata": {},
   "source": [
    "#### Read the list of cluster ids"
   ]
  },
  {
   "cell_type": "code",
   "execution_count": 68,
   "metadata": {},
   "outputs": [],
   "source": [
    "file_name = '_area'+id_area+'_month'+month_code+'_week'+ week\n",
    "\n",
    "with open(path + \"link_cluster\" + file_name + '_log.pickle', 'rb') as fp:\n",
    "    df_link = pickle.load(fp)\n",
    "    link_cluster = df_link[\"link_cluster\"]"
   ]
  },
  {
   "cell_type": "markdown",
   "metadata": {},
   "source": [
    "#### For each vehicle extract the list of cluster id, compute the sem imn and store the result"
   ]
  },
  {
   "cell_type": "code",
   "execution_count": 69,
   "metadata": {
    "scrolled": false
   },
   "outputs": [],
   "source": [
    "def store_sem_imns(path, file_name_in):\n",
    "    f = open_file(path+file_name_in)\n",
    "    for v in vehicles:\n",
    "        g = f[v][\"graph\"]\n",
    "        G = from_imn_to_graph(g)\n",
    "        w_scaled = scale_weights(g[\"edges\"])\n",
    "                \n",
    "        df_link_v = df_link[df_link[\"vehicle\"] == v]        \n",
    "        colors = [\"#525252\", \"#ffff33\", \"#e31a1c\", \"#33a02c\", \"#1f78b4\", \"#e7298a\"]\n",
    "        color_nodes = [colors[c-1] for c in list(df_link_v[\"link_cluster\"])]\n",
    "        \n",
    "        #print(list(df_link_v[\"link_cluster\"]))\n",
    "        print(len(list(df_link_v[\"link_cluster\"])))\n",
    "        nodes_order = G.nodes\n",
    "        nodes_weights = scale_nodes(nodes_sizes(f[v]))\n",
    "        \n",
    "        print(len(nodes_order))\n",
    "        print(len(color_nodes))\n",
    "\n",
    "        colors_ordered = []\n",
    "        nodes_ordered = [] \n",
    "        for pos in nodes_order:\n",
    "            nodes_ordered.append(nodes_weights[pos])\n",
    "            colors_ordered.append(color_nodes[pos])\n",
    "            \n",
    "        print(len(colors_ordered))\n",
    "        print(np.sort(G.nodes))\n",
    "        \n",
    "        draw_sem_imn(v, G, colors_ordered, nodes_ordered, w_scaled, file_name_in)"
   ]
  },
  {
   "cell_type": "code",
   "execution_count": 75,
   "metadata": {},
   "outputs": [],
   "source": [
    "##### NEW VERSION\n",
    "\n",
    "file_name = '_area'+id_area+'_month'+month_code+'_week'+ week\n",
    "file_name_in = 'loc_feat'+ file_name + '_complete.csv'\n",
    "\n",
    "# read dataframe with location features, extract only the ones we care about\n",
    "df_complete = pd.read_csv(path+file_name_in)\n",
    "df_complete = df_complete[[\"vehicle\", \"loc_id\", \"loc_proto_lat\", \"loc_proto_lon\", \"support\"]]\n",
    "\n",
    "# read the list of linkage clusters for each location\n",
    "with open(path + \"link_cluster\" + file_name + '_log.pickle', 'rb') as fp:\n",
    "    df_link = pickle.load(fp)\n",
    "    link_cluster = df_link[\"link_cluster\"]\n",
    "\n",
    "# store the linkage cluster as new column of the df\n",
    "df_complete = df_complete.assign(link_cluster = link_cluster) \n",
    "\n",
    "\n",
    "\n",
    "def store_sem_imns(path, file_name_in):\n",
    "    \n",
    "    with open(path+\"imn_light\"+file_name_out+'.json', 'rb') as fp:\n",
    "        f = json.load(fp)\n",
    "        for v in vehicles:\n",
    "            \n",
    "            location_nextlocs = f[v][\"location_nextlocs\"]\n",
    "            \n",
    "            g = f[v][\"graph\"]\n",
    "            G = from_imn_to_graph(g)\n",
    "            \n",
    "            print(len(G.nodes)) #1\n",
    "            print(len(G.edges)) #2\n",
    "            w_scaled = scale_weights(g[\"edges\"])\n",
    "\n",
    "            df_link_v = df_link[df_link[\"vehicle\"] == v]        \n",
    "            colors = [\"#525252\", \"#ffff33\", \"#e31a1c\", \"#33a02c\", \"#1f78b4\", \"#e7298a\"]\n",
    "            color_nodes = [colors[c-1] for c in list(df_link_v[\"link_cluster\"])]\n",
    "            \n",
    "            G = nx.DiGraph()\n",
    "            G.add_nodes_from(range(len(df_link_v)))\n",
    "            \n",
    "            for lid1 in location_nextlocs:\n",
    "                for lid2 in location_nextlocs[lid1]:\n",
    "                    G.add_edge(lid1, lid2, weight=location_nextlocs[lid1][lid2])\n",
    "                    \n",
    "            print(len(G.nodes)) #3\n",
    "            print(len(G.edges)) #4\n",
    "            \n",
    "            print(list(df_link_v[\"link_cluster\"]))\n",
    "            print(len(list(df_link_v[\"link_cluster\"])))\n",
    "            nodes_order = G.nodes\n",
    "            nodes_weights = scale_nodes(nodes_sizes(f[v]))\n",
    "\n",
    "            print(len(nodes_order))\n",
    "            print(len(color_nodes))\n",
    "\n",
    "            colors_ordered = []\n",
    "            nodes_ordered = [] \n",
    "            for pos in nodes_order:\n",
    "                nodes_ordered.append(nodes_weights[pos])\n",
    "                colors_ordered.append(color_nodes[pos])\n",
    "\n",
    "            print(len(colors_ordered))\n",
    "            print(np.sort(G.nodes))\n",
    "\n",
    "            draw_sem_imn(v, G, colors_ordered, nodes_ordered, w_scaled, file_name_in)"
   ]
  },
  {
   "cell_type": "code",
   "execution_count": 77,
   "metadata": {},
   "outputs": [
    {
     "name": "stdout",
     "output_type": "stream",
     "text": [
      "0 92 #e31a1c\n",
      "1 30 #e31a1c\n",
      "2 18 #ffff33\n",
      "3 14 #ffff33\n",
      "4 14 #ffff33\n",
      "5 14 #ffff33\n",
      "6 14 #ffff33\n",
      "7 12 #ffff33\n",
      "8 12 #e31a1c\n",
      "9 12 #e31a1c\n",
      "10 12 #ffff33\n",
      "11 10 #e31a1c\n",
      "12 10 #ffff33\n",
      "13 10 #525252\n",
      "14 10 #525252\n",
      "15 10 #ffff33\n",
      "16 10 #525252\n",
      "17 10 #e31a1c\n",
      "18 10 #e31a1c\n",
      "19 8 #e31a1c\n",
      "20 8 #e31a1c\n",
      "21 8 #e31a1c\n",
      "22 8 #ffff33\n",
      "23 8 #ffff33\n",
      "24 8 #e31a1c\n",
      "25 8 #e31a1c\n",
      "26 8 #ffff33\n",
      "27 8 #525252\n",
      "28 8 #525252\n",
      "29 8 #ffff33\n",
      "30 8 #525252\n",
      "31 8 #ffff33\n",
      "32 8 #ffff33\n",
      "33 6 #525252\n",
      "34 6 #ffff33\n",
      "35 6 #ffff33\n",
      "36 6 #ffff33\n",
      "37 6 #525252\n",
      "38 6 #525252\n",
      "39 6 #ffff33\n",
      "40 6 #ffff33\n",
      "41 6 #ffff33\n",
      "42 6 #ffff33\n",
      "43 6 #ffff33\n",
      "44 6 #525252\n",
      "45 6 #525252\n",
      "46 6 #e31a1c\n",
      "47 6 #525252\n",
      "48 5 #1f78b4\n",
      "49 4 #525252\n",
      "50 4 #33a02c\n",
      "51 4 #1f78b4\n",
      "52 4 #33a02c\n",
      "53 4 #1f78b4\n",
      "54 4 #1f78b4\n",
      "55 4 #e7298a\n",
      "56 4 #33a02c\n",
      "57 4 #1f78b4\n",
      "58 4 #1f78b4\n",
      "59 4 #1f78b4\n",
      "60 4 #1f78b4\n",
      "61 4 #1f78b4\n",
      "62 4 #33a02c\n",
      "63 4 #e7298a\n",
      "64 4 #e7298a\n",
      "65 4 #1f78b4\n",
      "66 4 #33a02c\n",
      "67 4 #e7298a\n",
      "68 4 #e7298a\n",
      "69 4 #e7298a\n",
      "70 4 #1f78b4\n",
      "71 4 #1f78b4\n",
      "72 4 #1f78b4\n",
      "73 4 #e7298a\n",
      "74 4 #1f78b4\n",
      "75 4 #1f78b4\n",
      "76 3 #1f78b4\n",
      "77 3 #1f78b4\n",
      "78 2 #e7298a\n",
      "79 2 #e7298a\n",
      "80 2 #e7298a\n",
      "81 2 #e7298a\n",
      "82 2 #e7298a\n",
      "83 2 #e7298a\n",
      "84 2 #e7298a\n",
      "85 2 #1f78b4\n",
      "86 2 #1f78b4\n",
      "87 2 #1f78b4\n",
      "88 2 #1f78b4\n",
      "89 2 #1f78b4\n",
      "90 2 #1f78b4\n",
      "91 2 #e7298a\n",
      "92 2 #e7298a\n",
      "93 2 #1f78b4\n",
      "94 2 #1f78b4\n",
      "95 2 #e7298a\n",
      "96 2 #1f78b4\n",
      "97 2 #e7298a\n",
      "98 2 #33a02c\n",
      "99 2 #1f78b4\n",
      "100 2 #33a02c\n",
      "101 2 #e7298a\n",
      "102 2 #e7298a\n",
      "103 2 #e7298a\n",
      "104 2 #e7298a\n",
      "105 2 #33a02c\n",
      "106 2 #e7298a\n",
      "107 2 #e7298a\n",
      "108 2 #e7298a\n",
      "109 2 #e7298a\n",
      "110 2 #1f78b4\n",
      "111 2 #1f78b4\n",
      "112 2 #e7298a\n",
      "113 2 #1f78b4\n",
      "114 2 #1f78b4\n",
      "115 2 #1f78b4\n",
      "116 2 #e7298a\n",
      "117 2 #33a02c\n",
      "118 2 #e7298a\n",
      "119 2 #1f78b4\n",
      "120 2 #1f78b4\n",
      "121 2 #1f78b4\n",
      "122 2 #1f78b4\n",
      "123 2 #e7298a\n",
      "124 2 #33a02c\n",
      "125 2 #1f78b4\n",
      "126 2 #1f78b4\n",
      "127 2 #1f78b4\n",
      "128 2 #1f78b4\n",
      "129 2 #1f78b4\n",
      "130 2 #1f78b4\n",
      "131 2 #e7298a\n",
      "132 2 #e7298a\n",
      "133 2 #e7298a\n",
      "134 1 #1f78b4\n"
     ]
    },
    {
     "ename": "ValueError",
     "evalue": "'c' argument has 135 elements, which is not acceptable for use with 'x' with size 229, 'y' with size 229.",
     "output_type": "error",
     "traceback": [
      "\u001b[1;31m---------------------------------------------------------------------------\u001b[0m",
      "\u001b[1;31mValueError\u001b[0m                                Traceback (most recent call last)",
      "\u001b[1;32m~\\Anaconda3\\lib\\site-packages\\matplotlib\\axes\\_axes.py\u001b[0m in \u001b[0;36m_parse_scatter_color_args\u001b[1;34m(c, edgecolors, kwargs, xshape, yshape, get_next_color_func)\u001b[0m\n\u001b[0;32m   4289\u001b[0m                     \u001b[0mvalid_shape\u001b[0m \u001b[1;33m=\u001b[0m \u001b[1;32mFalse\u001b[0m\u001b[1;33m\u001b[0m\u001b[1;33m\u001b[0m\u001b[0m\n\u001b[1;32m-> 4290\u001b[1;33m                     \u001b[1;32mraise\u001b[0m \u001b[0mValueError\u001b[0m\u001b[1;33m\u001b[0m\u001b[1;33m\u001b[0m\u001b[0m\n\u001b[0m\u001b[0;32m   4291\u001b[0m             \u001b[1;32mexcept\u001b[0m \u001b[0mValueError\u001b[0m\u001b[1;33m:\u001b[0m\u001b[1;33m\u001b[0m\u001b[1;33m\u001b[0m\u001b[0m\n",
      "\u001b[1;31mValueError\u001b[0m: ",
      "\nDuring handling of the above exception, another exception occurred:\n",
      "\u001b[1;31mValueError\u001b[0m                                Traceback (most recent call last)",
      "\u001b[1;32m<ipython-input-77-9645a0a35714>\u001b[0m in \u001b[0;36m<module>\u001b[1;34m\u001b[0m\n\u001b[0;32m     71\u001b[0m \u001b[1;33m\u001b[0m\u001b[0m\n\u001b[0;32m     72\u001b[0m     \u001b[1;32mreturn\u001b[0m \u001b[1;36m0\u001b[0m\u001b[1;33m\u001b[0m\u001b[1;33m\u001b[0m\u001b[0m\n\u001b[1;32m---> 73\u001b[1;33m \u001b[0mvisualize_imn\u001b[0m\u001b[1;33m(\u001b[0m\u001b[1;33m)\u001b[0m\u001b[1;33m\u001b[0m\u001b[1;33m\u001b[0m\u001b[0m\n\u001b[0m",
      "\u001b[1;32m<ipython-input-77-9645a0a35714>\u001b[0m in \u001b[0;36mvisualize_imn\u001b[1;34m(vis_traj, tiles, cluster_on)\u001b[0m\n\u001b[0;32m     68\u001b[0m             \u001b[0mprint\u001b[0m\u001b[1;33m(\u001b[0m\u001b[0mi\u001b[0m\u001b[1;33m,\u001b[0m \u001b[0msup_list\u001b[0m\u001b[1;33m[\u001b[0m\u001b[0mi\u001b[0m\u001b[1;33m]\u001b[0m\u001b[1;33m,\u001b[0m \u001b[0msup_colors\u001b[0m\u001b[1;33m[\u001b[0m\u001b[0mi\u001b[0m\u001b[1;33m]\u001b[0m\u001b[1;33m)\u001b[0m\u001b[1;33m\u001b[0m\u001b[1;33m\u001b[0m\u001b[0m\n\u001b[0;32m     69\u001b[0m \u001b[1;33m\u001b[0m\u001b[0m\n\u001b[1;32m---> 70\u001b[1;33m         \u001b[0mdraw_sem_imn\u001b[0m\u001b[1;33m(\u001b[0m\u001b[0mv\u001b[0m\u001b[1;33m,\u001b[0m \u001b[0mG\u001b[0m\u001b[1;33m,\u001b[0m \u001b[0msup_colors\u001b[0m\u001b[1;33m,\u001b[0m \u001b[0msup_list\u001b[0m\u001b[1;33m,\u001b[0m \u001b[0mw_scaled\u001b[0m\u001b[1;33m,\u001b[0m \u001b[1;34m'imn_light_area'\u001b[0m\u001b[1;33m+\u001b[0m\u001b[0mid_area\u001b[0m\u001b[1;33m+\u001b[0m\u001b[1;34m'_month'\u001b[0m\u001b[1;33m+\u001b[0m\u001b[0mmonth_code\u001b[0m\u001b[1;33m+\u001b[0m\u001b[1;34m'_week'\u001b[0m\u001b[1;33m+\u001b[0m \u001b[0mweek\u001b[0m\u001b[1;33m)\u001b[0m\u001b[1;33m\u001b[0m\u001b[1;33m\u001b[0m\u001b[0m\n\u001b[0m\u001b[0;32m     71\u001b[0m \u001b[1;33m\u001b[0m\u001b[0m\n\u001b[0;32m     72\u001b[0m     \u001b[1;32mreturn\u001b[0m \u001b[1;36m0\u001b[0m\u001b[1;33m\u001b[0m\u001b[1;33m\u001b[0m\u001b[0m\n",
      "\u001b[1;32m<ipython-input-67-193958e90f0c>\u001b[0m in \u001b[0;36mdraw_sem_imn\u001b[1;34m(v, G, color_nodes, nodes_s, w_scaled, file_name_in)\u001b[0m\n\u001b[0;32m      9\u001b[0m     \u001b[0mfig\u001b[0m \u001b[1;33m=\u001b[0m \u001b[0mplt\u001b[0m\u001b[1;33m.\u001b[0m\u001b[0mfigure\u001b[0m\u001b[1;33m(\u001b[0m\u001b[0mfigsize\u001b[0m\u001b[1;33m=\u001b[0m\u001b[1;33m(\u001b[0m\u001b[1;36m20\u001b[0m\u001b[1;33m,\u001b[0m \u001b[1;36m20\u001b[0m\u001b[1;33m)\u001b[0m\u001b[1;33m)\u001b[0m\u001b[1;33m\u001b[0m\u001b[1;33m\u001b[0m\u001b[0m\n\u001b[0;32m     10\u001b[0m \u001b[1;33m\u001b[0m\u001b[0m\n\u001b[1;32m---> 11\u001b[1;33m     \u001b[0mnx\u001b[0m\u001b[1;33m.\u001b[0m\u001b[0mdraw_circular\u001b[0m\u001b[1;33m(\u001b[0m\u001b[0mG\u001b[0m\u001b[1;33m,\u001b[0m \u001b[0mwith_labels\u001b[0m\u001b[1;33m=\u001b[0m\u001b[1;32mTrue\u001b[0m\u001b[1;33m,\u001b[0m \u001b[0mnode_size\u001b[0m\u001b[1;33m=\u001b[0m\u001b[0mnodes_s\u001b[0m\u001b[1;33m,\u001b[0m \u001b[0mwidth\u001b[0m\u001b[1;33m=\u001b[0m\u001b[0mw_scaled\u001b[0m\u001b[1;33m,\u001b[0m \u001b[1;33m**\u001b[0m\u001b[0moptions\u001b[0m\u001b[1;33m)\u001b[0m\u001b[1;33m\u001b[0m\u001b[1;33m\u001b[0m\u001b[0m\n\u001b[0m\u001b[0;32m     12\u001b[0m     \u001b[0mplt\u001b[0m\u001b[1;33m.\u001b[0m\u001b[0msavefig\u001b[0m\u001b[1;33m(\u001b[0m\u001b[1;34m'../../../thesis/images/sem_imn_'\u001b[0m\u001b[1;33m+\u001b[0m\u001b[0mfile_name_out\u001b[0m\u001b[1;33m+\u001b[0m\u001b[1;34m'_'\u001b[0m\u001b[1;33m+\u001b[0m\u001b[0mv\u001b[0m\u001b[1;33m+\u001b[0m\u001b[1;34m'.png'\u001b[0m\u001b[1;33m,\u001b[0m \u001b[0mformat\u001b[0m\u001b[1;33m=\u001b[0m\u001b[1;34m'png'\u001b[0m\u001b[1;33m,\u001b[0m \u001b[0mbbox_inches\u001b[0m\u001b[1;33m=\u001b[0m\u001b[1;34m'tight'\u001b[0m\u001b[1;33m)\u001b[0m\u001b[1;33m\u001b[0m\u001b[1;33m\u001b[0m\u001b[0m\n\u001b[0;32m     13\u001b[0m     \u001b[0mplt\u001b[0m\u001b[1;33m.\u001b[0m\u001b[0mclose\u001b[0m\u001b[1;33m(\u001b[0m\u001b[0mfig\u001b[0m\u001b[1;33m)\u001b[0m\u001b[1;33m\u001b[0m\u001b[1;33m\u001b[0m\u001b[0m\n",
      "\u001b[1;32m~\\Anaconda3\\lib\\site-packages\\networkx\\drawing\\nx_pylab.py\u001b[0m in \u001b[0;36mdraw_circular\u001b[1;34m(G, **kwargs)\u001b[0m\n\u001b[0;32m    993\u001b[0m        \u001b[0mfunction\u001b[0m\u001b[1;33m.\u001b[0m\u001b[1;33m\u001b[0m\u001b[1;33m\u001b[0m\u001b[0m\n\u001b[0;32m    994\u001b[0m     \"\"\"\n\u001b[1;32m--> 995\u001b[1;33m     \u001b[0mdraw\u001b[0m\u001b[1;33m(\u001b[0m\u001b[0mG\u001b[0m\u001b[1;33m,\u001b[0m \u001b[0mcircular_layout\u001b[0m\u001b[1;33m(\u001b[0m\u001b[0mG\u001b[0m\u001b[1;33m)\u001b[0m\u001b[1;33m,\u001b[0m \u001b[1;33m**\u001b[0m\u001b[0mkwargs\u001b[0m\u001b[1;33m)\u001b[0m\u001b[1;33m\u001b[0m\u001b[1;33m\u001b[0m\u001b[0m\n\u001b[0m\u001b[0;32m    996\u001b[0m \u001b[1;33m\u001b[0m\u001b[0m\n\u001b[0;32m    997\u001b[0m \u001b[1;33m\u001b[0m\u001b[0m\n",
      "\u001b[1;32m~\\Anaconda3\\lib\\site-packages\\networkx\\drawing\\nx_pylab.py\u001b[0m in \u001b[0;36mdraw\u001b[1;34m(G, pos, ax, **kwds)\u001b[0m\n\u001b[0;32m    123\u001b[0m         \u001b[0mkwds\u001b[0m\u001b[1;33m[\u001b[0m\u001b[1;34m'with_labels'\u001b[0m\u001b[1;33m]\u001b[0m \u001b[1;33m=\u001b[0m \u001b[1;34m'labels'\u001b[0m \u001b[1;32min\u001b[0m \u001b[0mkwds\u001b[0m\u001b[1;33m\u001b[0m\u001b[1;33m\u001b[0m\u001b[0m\n\u001b[0;32m    124\u001b[0m \u001b[1;33m\u001b[0m\u001b[0m\n\u001b[1;32m--> 125\u001b[1;33m     \u001b[0mdraw_networkx\u001b[0m\u001b[1;33m(\u001b[0m\u001b[0mG\u001b[0m\u001b[1;33m,\u001b[0m \u001b[0mpos\u001b[0m\u001b[1;33m=\u001b[0m\u001b[0mpos\u001b[0m\u001b[1;33m,\u001b[0m \u001b[0max\u001b[0m\u001b[1;33m=\u001b[0m\u001b[0max\u001b[0m\u001b[1;33m,\u001b[0m \u001b[1;33m**\u001b[0m\u001b[0mkwds\u001b[0m\u001b[1;33m)\u001b[0m\u001b[1;33m\u001b[0m\u001b[1;33m\u001b[0m\u001b[0m\n\u001b[0m\u001b[0;32m    126\u001b[0m     \u001b[0max\u001b[0m\u001b[1;33m.\u001b[0m\u001b[0mset_axis_off\u001b[0m\u001b[1;33m(\u001b[0m\u001b[1;33m)\u001b[0m\u001b[1;33m\u001b[0m\u001b[1;33m\u001b[0m\u001b[0m\n\u001b[0;32m    127\u001b[0m     \u001b[0mplt\u001b[0m\u001b[1;33m.\u001b[0m\u001b[0mdraw_if_interactive\u001b[0m\u001b[1;33m(\u001b[0m\u001b[1;33m)\u001b[0m\u001b[1;33m\u001b[0m\u001b[1;33m\u001b[0m\u001b[0m\n",
      "\u001b[1;32m~\\Anaconda3\\lib\\site-packages\\networkx\\drawing\\nx_pylab.py\u001b[0m in \u001b[0;36mdraw_networkx\u001b[1;34m(G, pos, arrows, with_labels, **kwds)\u001b[0m\n\u001b[0;32m    272\u001b[0m         \u001b[0mpos\u001b[0m \u001b[1;33m=\u001b[0m \u001b[0mnx\u001b[0m\u001b[1;33m.\u001b[0m\u001b[0mdrawing\u001b[0m\u001b[1;33m.\u001b[0m\u001b[0mspring_layout\u001b[0m\u001b[1;33m(\u001b[0m\u001b[0mG\u001b[0m\u001b[1;33m)\u001b[0m  \u001b[1;31m# default to spring layout\u001b[0m\u001b[1;33m\u001b[0m\u001b[1;33m\u001b[0m\u001b[0m\n\u001b[0;32m    273\u001b[0m \u001b[1;33m\u001b[0m\u001b[0m\n\u001b[1;32m--> 274\u001b[1;33m     \u001b[0mnode_collection\u001b[0m \u001b[1;33m=\u001b[0m \u001b[0mdraw_networkx_nodes\u001b[0m\u001b[1;33m(\u001b[0m\u001b[0mG\u001b[0m\u001b[1;33m,\u001b[0m \u001b[0mpos\u001b[0m\u001b[1;33m,\u001b[0m \u001b[1;33m**\u001b[0m\u001b[0mkwds\u001b[0m\u001b[1;33m)\u001b[0m\u001b[1;33m\u001b[0m\u001b[1;33m\u001b[0m\u001b[0m\n\u001b[0m\u001b[0;32m    275\u001b[0m     \u001b[0medge_collection\u001b[0m \u001b[1;33m=\u001b[0m \u001b[0mdraw_networkx_edges\u001b[0m\u001b[1;33m(\u001b[0m\u001b[0mG\u001b[0m\u001b[1;33m,\u001b[0m \u001b[0mpos\u001b[0m\u001b[1;33m,\u001b[0m \u001b[0marrows\u001b[0m\u001b[1;33m=\u001b[0m\u001b[0marrows\u001b[0m\u001b[1;33m,\u001b[0m \u001b[1;33m**\u001b[0m\u001b[0mkwds\u001b[0m\u001b[1;33m)\u001b[0m\u001b[1;33m\u001b[0m\u001b[1;33m\u001b[0m\u001b[0m\n\u001b[0;32m    276\u001b[0m     \u001b[1;32mif\u001b[0m \u001b[0mwith_labels\u001b[0m\u001b[1;33m:\u001b[0m\u001b[1;33m\u001b[0m\u001b[1;33m\u001b[0m\u001b[0m\n",
      "\u001b[1;32m~\\Anaconda3\\lib\\site-packages\\networkx\\drawing\\nx_pylab.py\u001b[0m in \u001b[0;36mdraw_networkx_nodes\u001b[1;34m(G, pos, nodelist, node_size, node_color, node_shape, alpha, cmap, vmin, vmax, ax, linewidths, edgecolors, label, **kwds)\u001b[0m\n\u001b[0;32m    415\u001b[0m                                  \u001b[0mlinewidths\u001b[0m\u001b[1;33m=\u001b[0m\u001b[0mlinewidths\u001b[0m\u001b[1;33m,\u001b[0m\u001b[1;33m\u001b[0m\u001b[1;33m\u001b[0m\u001b[0m\n\u001b[0;32m    416\u001b[0m                                  \u001b[0medgecolors\u001b[0m\u001b[1;33m=\u001b[0m\u001b[0medgecolors\u001b[0m\u001b[1;33m,\u001b[0m\u001b[1;33m\u001b[0m\u001b[1;33m\u001b[0m\u001b[0m\n\u001b[1;32m--> 417\u001b[1;33m                                  label=label)\n\u001b[0m\u001b[0;32m    418\u001b[0m     ax.tick_params(\n\u001b[0;32m    419\u001b[0m         \u001b[0maxis\u001b[0m\u001b[1;33m=\u001b[0m\u001b[1;34m'both'\u001b[0m\u001b[1;33m,\u001b[0m\u001b[1;33m\u001b[0m\u001b[1;33m\u001b[0m\u001b[0m\n",
      "\u001b[1;32m~\\Anaconda3\\lib\\site-packages\\matplotlib\\__init__.py\u001b[0m in \u001b[0;36minner\u001b[1;34m(ax, data, *args, **kwargs)\u001b[0m\n\u001b[0;32m   1597\u001b[0m     \u001b[1;32mdef\u001b[0m \u001b[0minner\u001b[0m\u001b[1;33m(\u001b[0m\u001b[0max\u001b[0m\u001b[1;33m,\u001b[0m \u001b[1;33m*\u001b[0m\u001b[0margs\u001b[0m\u001b[1;33m,\u001b[0m \u001b[0mdata\u001b[0m\u001b[1;33m=\u001b[0m\u001b[1;32mNone\u001b[0m\u001b[1;33m,\u001b[0m \u001b[1;33m**\u001b[0m\u001b[0mkwargs\u001b[0m\u001b[1;33m)\u001b[0m\u001b[1;33m:\u001b[0m\u001b[1;33m\u001b[0m\u001b[1;33m\u001b[0m\u001b[0m\n\u001b[0;32m   1598\u001b[0m         \u001b[1;32mif\u001b[0m \u001b[0mdata\u001b[0m \u001b[1;32mis\u001b[0m \u001b[1;32mNone\u001b[0m\u001b[1;33m:\u001b[0m\u001b[1;33m\u001b[0m\u001b[1;33m\u001b[0m\u001b[0m\n\u001b[1;32m-> 1599\u001b[1;33m             \u001b[1;32mreturn\u001b[0m \u001b[0mfunc\u001b[0m\u001b[1;33m(\u001b[0m\u001b[0max\u001b[0m\u001b[1;33m,\u001b[0m \u001b[1;33m*\u001b[0m\u001b[0mmap\u001b[0m\u001b[1;33m(\u001b[0m\u001b[0msanitize_sequence\u001b[0m\u001b[1;33m,\u001b[0m \u001b[0margs\u001b[0m\u001b[1;33m)\u001b[0m\u001b[1;33m,\u001b[0m \u001b[1;33m**\u001b[0m\u001b[0mkwargs\u001b[0m\u001b[1;33m)\u001b[0m\u001b[1;33m\u001b[0m\u001b[1;33m\u001b[0m\u001b[0m\n\u001b[0m\u001b[0;32m   1600\u001b[0m \u001b[1;33m\u001b[0m\u001b[0m\n\u001b[0;32m   1601\u001b[0m         \u001b[0mbound\u001b[0m \u001b[1;33m=\u001b[0m \u001b[0mnew_sig\u001b[0m\u001b[1;33m.\u001b[0m\u001b[0mbind\u001b[0m\u001b[1;33m(\u001b[0m\u001b[0max\u001b[0m\u001b[1;33m,\u001b[0m \u001b[1;33m*\u001b[0m\u001b[0margs\u001b[0m\u001b[1;33m,\u001b[0m \u001b[1;33m**\u001b[0m\u001b[0mkwargs\u001b[0m\u001b[1;33m)\u001b[0m\u001b[1;33m\u001b[0m\u001b[1;33m\u001b[0m\u001b[0m\n",
      "\u001b[1;32m~\\Anaconda3\\lib\\site-packages\\matplotlib\\axes\\_axes.py\u001b[0m in \u001b[0;36mscatter\u001b[1;34m(self, x, y, s, c, marker, cmap, norm, vmin, vmax, alpha, linewidths, verts, edgecolors, plotnonfinite, **kwargs)\u001b[0m\n\u001b[0;32m   4451\u001b[0m             self._parse_scatter_color_args(\n\u001b[0;32m   4452\u001b[0m                 \u001b[0mc\u001b[0m\u001b[1;33m,\u001b[0m \u001b[0medgecolors\u001b[0m\u001b[1;33m,\u001b[0m \u001b[0mkwargs\u001b[0m\u001b[1;33m,\u001b[0m \u001b[0mxshape\u001b[0m\u001b[1;33m,\u001b[0m \u001b[0myshape\u001b[0m\u001b[1;33m,\u001b[0m\u001b[1;33m\u001b[0m\u001b[1;33m\u001b[0m\u001b[0m\n\u001b[1;32m-> 4453\u001b[1;33m                 get_next_color_func=self._get_patches_for_fill.get_next_color)\n\u001b[0m\u001b[0;32m   4454\u001b[0m \u001b[1;33m\u001b[0m\u001b[0m\n\u001b[0;32m   4455\u001b[0m         \u001b[1;32mif\u001b[0m \u001b[0mplotnonfinite\u001b[0m \u001b[1;32mand\u001b[0m \u001b[0mcolors\u001b[0m \u001b[1;32mis\u001b[0m \u001b[1;32mNone\u001b[0m\u001b[1;33m:\u001b[0m\u001b[1;33m\u001b[0m\u001b[1;33m\u001b[0m\u001b[0m\n",
      "\u001b[1;32m~\\Anaconda3\\lib\\site-packages\\matplotlib\\axes\\_axes.py\u001b[0m in \u001b[0;36m_parse_scatter_color_args\u001b[1;34m(c, edgecolors, kwargs, xshape, yshape, get_next_color_func)\u001b[0m\n\u001b[0;32m   4295\u001b[0m                         \u001b[1;34m\"acceptable for use with 'x' with size {xs}, \"\u001b[0m\u001b[1;33m\u001b[0m\u001b[1;33m\u001b[0m\u001b[0m\n\u001b[0;32m   4296\u001b[0m                         \u001b[1;34m\"'y' with size {ys}.\"\u001b[0m\u001b[1;33m\u001b[0m\u001b[1;33m\u001b[0m\u001b[0m\n\u001b[1;32m-> 4297\u001b[1;33m                             \u001b[1;33m.\u001b[0m\u001b[0mformat\u001b[0m\u001b[1;33m(\u001b[0m\u001b[0mnc\u001b[0m\u001b[1;33m=\u001b[0m\u001b[0mn_elem\u001b[0m\u001b[1;33m,\u001b[0m \u001b[0mxs\u001b[0m\u001b[1;33m=\u001b[0m\u001b[0mxsize\u001b[0m\u001b[1;33m,\u001b[0m \u001b[0mys\u001b[0m\u001b[1;33m=\u001b[0m\u001b[0mysize\u001b[0m\u001b[1;33m)\u001b[0m\u001b[1;33m\u001b[0m\u001b[1;33m\u001b[0m\u001b[0m\n\u001b[0m\u001b[0;32m   4298\u001b[0m                     )\n\u001b[0;32m   4299\u001b[0m                 \u001b[1;32melse\u001b[0m\u001b[1;33m:\u001b[0m\u001b[1;33m\u001b[0m\u001b[1;33m\u001b[0m\u001b[0m\n",
      "\u001b[1;31mValueError\u001b[0m: 'c' argument has 135 elements, which is not acceptable for use with 'x' with size 229, 'y' with size 229."
     ]
    },
    {
     "data": {
      "image/png": "[encoded data removed]",
      "text/plain": [
       "<Figure size 1440x1440 with 1 Axes>"
      ]
     },
     "metadata": {},
     "output_type": "display_data"
    }
   ],
   "source": [
    "def visualize_imn(vis_traj = True, tiles='stamentoner', cluster_on=True):\n",
    "    # get dataframe not normalized\n",
    "    file_name = '_area'+id_area+'_month'+month_code+'_week'+ week\n",
    "    file_name_in = 'loc_feat'+ file_name + '_complete.csv'\n",
    "\n",
    "    # read dataframe with location features, extract only the ones we care about\n",
    "    df_complete = pd.read_csv(path+file_name_in)\n",
    "    df_complete = df_complete[[\"vehicle\", \"loc_id\", \"loc_proto_lat\", \"loc_proto_lon\", \"support\"]]\n",
    "\n",
    "    # read the list of linkage clusters for each location\n",
    "    with open(path + \"link_cluster\" + file_name + '_log.pickle', 'rb') as fp:\n",
    "        df_link = pickle.load(fp)\n",
    "        link_cluster = df_link[\"link_cluster\"]\n",
    "\n",
    "    # store the linkage cluster as new column of the df\n",
    "    df_complete = df_complete.assign(link_cluster = link_cluster) \n",
    "\n",
    "    # extract 3 vehicle with different purity levels\n",
    "    vehicles = ['7410_74050', '15000_131630', '11770_93490']\n",
    "\n",
    "    for ix, v in enumerate(vehicles):\n",
    "\n",
    "        # extract the df of locations only of that vehicle\n",
    "        df_v = df_complete[df_complete[\"vehicle\"] == v]\n",
    "        \n",
    "        # read the imn of the vehicle\n",
    "        with open(path+\"imn_light\"+file_name+'.json', 'rb') as fp:\n",
    "            file_j = json.load(fp)\n",
    "            imn_v = file_j[v]\n",
    "        \n",
    "        # extract the dict of nextlocations and the location features\n",
    "        location_nextlocs = imn_v[\"location_nextlocs\"]\n",
    "\n",
    "        # compute a list of points coordinates\n",
    "        points = np.array([[p[0], p[1]] for p in zip(df_v[\"loc_proto_lon\"], df_v[\"loc_proto_lat\"])])\n",
    "\n",
    "        # compute a dict from the location id (as string) to its coordinates\n",
    "        loc_id_string = [str(x) for x in df_v[\"loc_id\"]]\n",
    "        location_prototype = dict(zip(loc_id_string, points))\n",
    "\n",
    "        lat_list = list(df_v[\"loc_proto_lat\"])\n",
    "        lon_list = list(df_v[\"loc_proto_lon\"])\n",
    "        sup_list = list(df_v[\"support\"])\n",
    "\n",
    "        # nero, giallo, rosso, verde, blu, viola\n",
    "        colors = [\"#525252\", \"#ffff33\", \"#e31a1c\", \"#33a02c\", \"#1f78b4\", \"#e7298a\"]\n",
    "        link_cluster = df_v[\"link_cluster\"]\n",
    "        #print(list(link_cluster))\n",
    "        sup_colors = [colors[l-1] for l in link_cluster]\n",
    "        \n",
    "        G = nx.DiGraph()\n",
    "        G.add_nodes_from(range(0, len(lon_list)))\n",
    "        \n",
    "        w = []\n",
    "\n",
    "        for lid1 in location_nextlocs:\n",
    "            for lid2 in location_nextlocs[lid1]:\n",
    "                w.append(location_nextlocs[lid1][lid2])\n",
    "                G.add_edge(lid1, lid2, weight=location_nextlocs[lid1][lid2])\n",
    "                \n",
    "        min_w = min(w)\n",
    "        max_w = max(w)\n",
    "        r = float(max_w - min_w)\n",
    "        w_scaled = [translate(wi, min_w, max_w, 0.3, 10) for wi in w]\n",
    "\n",
    "\n",
    "        for i in range(0, len(lon_list)):\n",
    "            print(i, sup_list[i], sup_colors[i])\n",
    "            \n",
    "        draw_sem_imn(v, G, sup_colors, sup_list, w_scaled, 'imn_light_area'+id_area+'_month'+month_code+'_week'+ week)\n",
    "\n",
    "    return 0\n",
    "visualize_imn()"
   ]
  },
  {
   "cell_type": "code",
   "execution_count": 76,
   "metadata": {},
   "outputs": [
    {
     "name": "stdout",
     "output_type": "stream",
     "text": [
      "94\n",
      "289\n",
      "[{'weight': 2, 'from': 11, 'to': 33}, {'weight': 2, 'from': 11, 'to': 11}, {'weight': 1, 'from': 11, 'to': 13}, {'weight': 1, 'from': 33, 'to': 49}, {'weight': 1, 'from': 33, 'to': 12}, {'weight': 1, 'from': 33, 'to': 9}, {'weight': 1, 'from': 33, 'to': 6}, {'weight': 1, 'from': 13, 'to': 51}, {'weight': 1, 'from': 13, 'to': 0}, {'weight': 2, 'from': 13, 'to': 3}, {'weight': 1, 'from': 13, 'to': 13}, {'weight': 1, 'from': 13, 'to': 98}, {'weight': 2, 'from': 49, 'to': 19}, {'weight': 1, 'from': 12, 'to': 53}, {'weight': 1, 'from': 12, 'to': 13}, {'weight': 1, 'from': 12, 'to': 36}, {'weight': 2, 'from': 12, 'to': 12}, {'weight': 1, 'from': 12, 'to': 11}, {'weight': 1, 'from': 12, 'to': 0}, {'weight': 2, 'from': 9, 'to': 24}, {'weight': 1, 'from': 9, 'to': 9}, {'weight': 1, 'from': 9, 'to': 43}, {'weight': 1, 'from': 9, 'to': 55}, {'weight': 1, 'from': 9, 'to': 20}, {'weight': 1, 'from': 6, 'to': 8}, {'weight': 2, 'from': 6, 'to': 6}, {'weight': 1, 'from': 6, 'to': 58}, {'weight': 1, 'from': 6, 'to': 2}, {'weight': 1, 'from': 6, 'to': 14}, {'weight': 2, 'from': 19, 'to': 19}, {'weight': 2, 'from': 19, 'to': 20}, {'weight': 1, 'from': 19, 'to': 85}, {'weight': 1, 'from': 19, 'to': 28}, {'weight': 1, 'from': 20, 'to': 48}, {'weight': 1, 'from': 20, 'to': 12}, {'weight': 1, 'from': 20, 'to': 14}, {'weight': 1, 'from': 20, 'to': 2}, {'weight': 1, 'from': 85, 'to': 10}, {'weight': 1, 'from': 85, 'to': 1}, {'weight': 1, 'from': 28, 'to': 28}, {'weight': 1, 'from': 28, 'to': 8}, {'weight': 1, 'from': 28, 'to': 80}, {'weight': 1, 'from': 28, 'to': 43}, {'weight': 1, 'from': 48, 'to': 76}, {'weight': 1, 'from': 48, 'to': 0}, {'weight': 1, 'from': 14, 'to': 12}, {'weight': 1, 'from': 14, 'to': 0}, {'weight': 1, 'from': 14, 'to': 15}, {'weight': 1, 'from': 14, 'to': 20}, {'weight': 1, 'from': 14, 'to': 49}, {'weight': 1, 'from': 14, 'to': 16}, {'weight': 3, 'from': 2, 'to': 2}, {'weight': 1, 'from': 2, 'to': 26}, {'weight': 1, 'from': 2, 'to': 29}, {'weight': 1, 'from': 2, 'to': 7}, {'weight': 1, 'from': 2, 'to': 21}, {'weight': 1, 'from': 2, 'to': 12}, {'weight': 1, 'from': 76, 'to': 3}, {'weight': 2, 'from': 76, 'to': 57}, {'weight': 2, 'from': 0, 'to': 4}, {'weight': 1, 'from': 0, 'to': 8}, {'weight': 16, 'from': 0, 'to': 0}, {'weight': 2, 'from': 0, 'to': 81}, {'weight': 1, 'from': 0, 'to': 56}, {'weight': 8, 'from': 0, 'to': 1}, {'weight': 1, 'from': 0, 'to': 83}, {'weight': 1, 'from': 0, 'to': 51}, {'weight': 2, 'from': 0, 'to': 3}, {'weight': 1, 'from': 0, 'to': 6}, {'weight': 1, 'from': 0, 'to': 2}, {'weight': 1, 'from': 0, 'to': 86}, {'weight': 1, 'from': 0, 'to': 26}, {'weight': 1, 'from': 0, 'to': 90}, {'weight': 2, 'from': 0, 'to': 63}, {'weight': 1, 'from': 0, 'to': 93}, {'weight': 1, 'from': 0, 'to': 92}, {'weight': 1, 'from': 0, 'to': 94}, {'weight': 1, 'from': 0, 'to': 44}, {'weight': 1, 'from': 0, 'to': 96}, {'weight': 1, 'from': 0, 'to': 34}, {'weight': 1, 'from': 0, 'to': 100}, {'weight': 3, 'from': 3, 'to': 4}, {'weight': 2, 'from': 3, 'to': 3}, {'weight': 1, 'from': 3, 'to': 1}, {'weight': 1, 'from': 3, 'to': 0}, {'weight': 1, 'from': 57, 'to': 83}, {'weight': 1, 'from': 57, 'to': 57}, {'weight': 1, 'from': 57, 'to': 53}, {'weight': 2, 'from': 4, 'to': 4}, {'weight': 2, 'from': 4, 'to': 78}, {'weight': 1, 'from': 4, 'to': 0}, {'weight': 1, 'from': 4, 'to': 15}, {'weight': 1, 'from': 4, 'to': 5}, {'weight': 9, 'from': 1, 'to': 1}, {'weight': 12, 'from': 1, 'to': 0}, {'weight': 1, 'from': 1, 'to': 13}, {'weight': 1, 'from': 1, 'to': 92}, {'weight': 1, 'from': 1, 'to': 10}, {'weight': 1, 'from': 1, 'to': 34}, {'weight': 1, 'from': 1, 'to': 42}, {'weight': 2, 'from': 1, 'to': 95}, {'weight': 1, 'from': 78, 'to': 50}, {'weight': 1, 'from': 78, 'to': 47}, {'weight': 2, 'from': 15, 'to': 15}, {'weight': 1, 'from': 15, 'to': 37}, {'weight': 1, 'from': 15, 'to': 39}, {'weight': 1, 'from': 15, 'to': 16}, {'weight': 1, 'from': 15, 'to': 45}, {'weight': 1, 'from': 5, 'to': 13}, {'weight': 1, 'from': 5, 'to': 2}, {'weight': 2, 'from': 5, 'to': 5}, {'weight': 1, 'from': 5, 'to': 8}, {'weight': 1, 'from': 5, 'to': 22}, {'weight': 1, 'from': 50, 'to': 21}, {'weight': 1, 'from': 47, 'to': 47}, {'weight': 1, 'from': 47, 'to': 5}, {'weight': 3, 'from': 21, 'to': 21}, {'weight': 1, 'from': 21, 'to': 79}, {'weight': 1, 'from': 21, 'to': 91}, {'weight': 1, 'from': 21, 'to': 7}, {'weight': 1, 'from': 79, 'to': 51}, {'weight': 1, 'from': 91, 'to': 91}, {'weight': 1, 'from': 91, 'to': 18}, {'weight': 1, 'from': 7, 'to': 33}, {'weight': 1, 'from': 7, 'to': 0}, {'weight': 1, 'from': 7, 'to': 21}, {'weight': 1, 'from': 7, 'to': 7}, {'weight': 1, 'from': 7, 'to': 2}, {'weight': 1, 'from': 51, 'to': 34}, {'weight': 2, 'from': 51, 'to': 5}, {'weight': 1, 'from': 34, 'to': 52}, {'weight': 2, 'from': 34, 'to': 22}, {'weight': 1, 'from': 34, 'to': 34}, {'weight': 1, 'from': 34, 'to': 44}, {'weight': 1, 'from': 34, 'to': 62}, {'weight': 1, 'from': 52, 'to': 7}, {'weight': 1, 'from': 22, 'to': 23}, {'weight': 2, 'from': 22, 'to': 22}, {'weight': 1, 'from': 22, 'to': 40}, {'weight': 1, 'from': 22, 'to': 8}, {'weight': 1, 'from': 44, 'to': 0}, {'weight': 1, 'from': 44, 'to': 30}, {'weight': 1, 'from': 44, 'to': 10}, {'weight': 1, 'from': 62, 'to': 62}, {'weight': 1, 'from': 62, 'to': 58}, {'weight': 1, 'from': 62, 'to': 1}, {'weight': 1, 'from': 62, 'to': 29}, {'weight': 2, 'from': 53, 'to': 54}, {'weight': 1, 'from': 53, 'to': 26}, {'weight': 1, 'from': 36, 'to': 14}, {'weight': 1, 'from': 36, 'to': 27}, {'weight': 1, 'from': 36, 'to': 28}, {'weight': 1, 'from': 36, 'to': 0}, {'weight': 1, 'from': 54, 'to': 34}, {'weight': 1, 'from': 54, 'to': 8}, {'weight': 1, 'from': 54, 'to': 88}, {'weight': 1, 'from': 26, 'to': 26}, {'weight': 1, 'from': 26, 'to': 84}, {'weight': 1, 'from': 26, 'to': 76}, {'weight': 1, 'from': 26, 'to': 87}, {'weight': 1, 'from': 8, 'to': 11}, {'weight': 2, 'from': 8, 'to': 8}, {'weight': 1, 'from': 8, 'to': 25}, {'weight': 1, 'from': 8, 'to': 38}, {'weight': 1, 'from': 8, 'to': 6}, {'weight': 1, 'from': 8, 'to': 9}, {'weight': 1, 'from': 8, 'to': 33}, {'weight': 1, 'from': 88, 'to': 89}, {'weight': 1, 'from': 23, 'to': 80}, {'weight': 1, 'from': 23, 'to': 23}, {'weight': 1, 'from': 23, 'to': 0}, {'weight': 1, 'from': 23, 'to': 36}, {'weight': 1, 'from': 40, 'to': 40}, {'weight': 1, 'from': 40, 'to': 41}, {'weight': 1, 'from': 80, 'to': 53}, {'weight': 1, 'from': 80, 'to': 35}, {'weight': 2, 'from': 35, 'to': 35}, {'weight': 2, 'from': 35, 'to': 36}, {'weight': 1, 'from': 25, 'to': 12}, {'weight': 2, 'from': 38, 'to': 38}, {'weight': 1, 'from': 38, 'to': 0}, {'weight': 1, 'from': 38, 'to': 13}, {'weight': 2, 'from': 24, 'to': 24}, {'weight': 1, 'from': 24, 'to': 55}, {'weight': 1, 'from': 24, 'to': 19}, {'weight': 1, 'from': 43, 'to': 16}, {'weight': 1, 'from': 43, 'to': 23}, {'weight': 1, 'from': 43, 'to': 43}, {'weight': 1, 'from': 43, 'to': 38}, {'weight': 1, 'from': 55, 'to': 0}, {'weight': 1, 'from': 55, 'to': 7}, {'weight': 1, 'from': 81, 'to': 0}, {'weight': 1, 'from': 81, 'to': 82}, {'weight': 1, 'from': 56, 'to': 56}, {'weight': 1, 'from': 56, 'to': 0}, {'weight': 1, 'from': 83, 'to': 76}, {'weight': 1, 'from': 83, 'to': 1}, {'weight': 1, 'from': 86, 'to': 48}, {'weight': 1, 'from': 86, 'to': 54}, {'weight': 1, 'from': 90, 'to': 90}, {'weight': 1, 'from': 90, 'to': 39}, {'weight': 2, 'from': 63, 'to': 63}, {'weight': 2, 'from': 63, 'to': 1}, {'weight': 1, 'from': 93, 'to': 93}, {'weight': 1, 'from': 93, 'to': 1}, {'weight': 2, 'from': 92, 'to': 1}, {'weight': 1, 'from': 94, 'to': 94}, {'weight': 1, 'from': 94, 'to': 1}, {'weight': 1, 'from': 96, 'to': 96}, {'weight': 1, 'from': 96, 'to': 0}, {'weight': 1, 'from': 100, 'to': 100}, {'weight': 1, 'from': 100, 'to': 101}, {'weight': 1, 'from': 98, 'to': 98}, {'weight': 1, 'from': 98, 'to': 23}, {'weight': 1, 'from': 82, 'to': 82}, {'weight': 1, 'from': 82, 'to': 0}, {'weight': 1, 'from': 10, 'to': 19}, {'weight': 1, 'from': 10, 'to': 10}, {'weight': 1, 'from': 10, 'to': 30}, {'weight': 1, 'from': 10, 'to': 42}, {'weight': 1, 'from': 10, 'to': 103}, {'weight': 1, 'from': 42, 'to': 42}, {'weight': 2, 'from': 42, 'to': 62}, {'weight': 1, 'from': 42, 'to': 0}, {'weight': 1, 'from': 95, 'to': 1}, {'weight': 1, 'from': 95, 'to': 30}, {'weight': 1, 'from': 29, 'to': 6}, {'weight': 1, 'from': 29, 'to': 10}, {'weight': 1, 'from': 29, 'to': 29}, {'weight': 1, 'from': 29, 'to': 97}, {'weight': 1, 'from': 84, 'to': 84}, {'weight': 1, 'from': 84, 'to': 35}, {'weight': 1, 'from': 87, 'to': 87}, {'weight': 1, 'from': 87, 'to': 86}, {'weight': 2, 'from': 27, 'to': 27}, {'weight': 1, 'from': 27, 'to': 14}, {'weight': 1, 'from': 27, 'to': 18}, {'weight': 2, 'from': 16, 'to': 16}, {'weight': 2, 'from': 16, 'to': 17}, {'weight': 1, 'from': 16, 'to': 32}, {'weight': 1, 'from': 16, 'to': 99}, {'weight': 2, 'from': 18, 'to': 18}, {'weight': 1, 'from': 18, 'to': 14}, {'weight': 1, 'from': 18, 'to': 15}, {'weight': 1, 'from': 37, 'to': 37}, {'weight': 1, 'from': 37, 'to': 16}, {'weight': 1, 'from': 39, 'to': 14}, {'weight': 1, 'from': 39, 'to': 34}, {'weight': 1, 'from': 45, 'to': 45}, {'weight': 1, 'from': 45, 'to': 46}, {'weight': 2, 'from': 17, 'to': 17}, {'weight': 2, 'from': 17, 'to': 9}, {'weight': 1, 'from': 32, 'to': 15}, {'weight': 1, 'from': 32, 'to': 43}, {'weight': 1, 'from': 32, 'to': 32}, {'weight': 1, 'from': 32, 'to': 27}, {'weight': 1, 'from': 99, 'to': 99}, {'weight': 1, 'from': 99, 'to': 9}, {'weight': 1, 'from': 30, 'to': 30}, {'weight': 2, 'from': 30, 'to': 0}, {'weight': 1, 'from': 30, 'to': 85}, {'weight': 1, 'from': 103, 'to': 44}, {'weight': 1, 'from': 103, 'to': 64}, {'weight': 2, 'from': 58, 'to': 58}, {'weight': 1, 'from': 58, 'to': 29}, {'weight': 1, 'from': 58, 'to': 31}, {'weight': 2, 'from': 31, 'to': 31}, {'weight': 2, 'from': 31, 'to': 32}, {'weight': 1, 'from': 97, 'to': 97}, {'weight': 1, 'from': 97, 'to': 31}, {'weight': 1, 'from': 89, 'to': 59}, {'weight': 1, 'from': 59, 'to': 59}, {'weight': 1, 'from': 59, 'to': 60}, {'weight': 1, 'from': 60, 'to': 60}, {'weight': 1, 'from': 60, 'to': 61}, {'weight': 1, 'from': 61, 'to': 61}, {'weight': 1, 'from': 61, 'to': 0}, {'weight': 1, 'from': 41, 'to': 41}, {'weight': 1, 'from': 41, 'to': 42}, {'weight': 1, 'from': 46, 'to': 46}, {'weight': 1, 'from': 46, 'to': 28}, {'weight': 1, 'from': 101, 'to': 101}, {'weight': 1, 'from': 101, 'to': 102}, {'weight': 1, 'from': 102, 'to': 102}, {'weight': 1, 'from': 102, 'to': 103}, {'weight': 1, 'from': 64, 'to': 64}, {'weight': 1, 'from': 64, 'to': 104}, {'weight': 1, 'from': 104, 'to': 104}, {'weight': 1, 'from': 104, 'to': 105}]\n",
      "229\n",
      "289\n",
      "[3, 3, 2, 2, 2, 2, 2, 2, 3, 3, 2, 3, 2, 1, 1, 2, 1, 3, 3, 3, 3, 3, 2, 2, 3, 3, 2, 1, 1, 2, 1, 2, 2, 1, 2, 2, 2, 1, 1, 2, 2, 2, 2, 2, 1, 1, 3, 1, 5, 1, 4, 5, 4, 5, 5, 6, 4, 5, 5, 5, 5, 5, 4, 6, 6, 5, 4, 6, 6, 6, 5, 5, 5, 6, 5, 5, 5, 5, 6, 6, 6, 6, 6, 6, 6, 5, 5, 5, 5, 5, 5, 6, 6, 5, 5, 6, 5, 6, 4, 5, 4, 6, 6, 6, 6, 4, 6, 6, 6, 6, 5, 5, 6, 5, 5, 5, 6, 4, 6, 5, 5, 5, 5, 6, 4, 5, 5, 5, 5, 5, 5, 6, 6, 6, 5]\n",
      "135\n",
      "229\n",
      "135\n"
     ]
    },
    {
     "ename": "TypeError",
     "evalue": "list indices must be integers or slices, not str",
     "output_type": "error",
     "traceback": [
      "\u001b[1;31m---------------------------------------------------------------------------\u001b[0m",
      "\u001b[1;31mTypeError\u001b[0m                                 Traceback (most recent call last)",
      "\u001b[1;32m<ipython-input-76-16ae512ea9db>\u001b[0m in \u001b[0;36m<module>\u001b[1;34m\u001b[0m\n\u001b[1;32m----> 1\u001b[1;33m \u001b[0mstore_sem_imns\u001b[0m\u001b[1;33m(\u001b[0m\u001b[0mpath\u001b[0m\u001b[1;33m,\u001b[0m \u001b[0mfile_name_in\u001b[0m\u001b[1;33m)\u001b[0m\u001b[1;33m\u001b[0m\u001b[1;33m\u001b[0m\u001b[0m\n\u001b[0m",
      "\u001b[1;32m<ipython-input-75-7cef05f334a6>\u001b[0m in \u001b[0;36mstore_sem_imns\u001b[1;34m(path, file_name_in)\u001b[0m\n\u001b[0;32m     59\u001b[0m             \u001b[0mnodes_ordered\u001b[0m \u001b[1;33m=\u001b[0m \u001b[1;33m[\u001b[0m\u001b[1;33m]\u001b[0m\u001b[1;33m\u001b[0m\u001b[1;33m\u001b[0m\u001b[0m\n\u001b[0;32m     60\u001b[0m             \u001b[1;32mfor\u001b[0m \u001b[0mpos\u001b[0m \u001b[1;32min\u001b[0m \u001b[0mnodes_order\u001b[0m\u001b[1;33m:\u001b[0m\u001b[1;33m\u001b[0m\u001b[1;33m\u001b[0m\u001b[0m\n\u001b[1;32m---> 61\u001b[1;33m                 \u001b[0mnodes_ordered\u001b[0m\u001b[1;33m.\u001b[0m\u001b[0mappend\u001b[0m\u001b[1;33m(\u001b[0m\u001b[0mnodes_weights\u001b[0m\u001b[1;33m[\u001b[0m\u001b[0mpos\u001b[0m\u001b[1;33m]\u001b[0m\u001b[1;33m)\u001b[0m\u001b[1;33m\u001b[0m\u001b[1;33m\u001b[0m\u001b[0m\n\u001b[0m\u001b[0;32m     62\u001b[0m                 \u001b[0mcolors_ordered\u001b[0m\u001b[1;33m.\u001b[0m\u001b[0mappend\u001b[0m\u001b[1;33m(\u001b[0m\u001b[0mcolor_nodes\u001b[0m\u001b[1;33m[\u001b[0m\u001b[0mpos\u001b[0m\u001b[1;33m]\u001b[0m\u001b[1;33m)\u001b[0m\u001b[1;33m\u001b[0m\u001b[1;33m\u001b[0m\u001b[0m\n\u001b[0;32m     63\u001b[0m \u001b[1;33m\u001b[0m\u001b[0m\n",
      "\u001b[1;31mTypeError\u001b[0m: list indices must be integers or slices, not str"
     ]
    }
   ],
   "source": [
    "store_sem_imns(path, file_name_in)"
   ]
  },
  {
   "cell_type": "markdown",
   "metadata": {},
   "source": [
    "# CLUSTERED SEMANTIC INDIVIDUAL MOBILITY NETWORK"
   ]
  },
  {
   "cell_type": "markdown",
   "metadata": {},
   "source": [
    "#### Trasform a color from rgba to hex"
   ]
  },
  {
   "cell_type": "code",
   "execution_count": 82,
   "metadata": {},
   "outputs": [],
   "source": [
    "def from_rgba_to_hex(a, b, c):\n",
    "    a = int(a*255)\n",
    "    b = int(b*255)\n",
    "    c = int(c*255)\n",
    "    return '#%02x%02x%02x' % (a, b, c)"
   ]
  },
  {
   "cell_type": "code",
   "execution_count": 83,
   "metadata": {},
   "outputs": [],
   "source": [
    "def draw_pydot_graph(node_weights, colors, nodes_id, edge_weight, file_name_in, v):\n",
    "    graph = pydot.Dot(graph_type='graph')\n",
    "\n",
    "    graph.set_node_defaults(shape= \"circle\", fixedsize = True, style='filled', color='white')\n",
    "    graph.set_edge_defaults(color=\"black\", dir=\"forward\", arrowhead=\"vee\", arrowsize=\"0.5\", weight=\"50\", minlen=10, mindist=3)\n",
    "\n",
    "    pydot_node_weights = np.divide(node_weights, 5000)\n",
    "\n",
    "    nodes =[]\n",
    "    for i in range(len(nodes_id)):\n",
    "        nodes.append(pydot.Node(str(nodes_id[i]), fillcolor=colors[i], width=str(pydot_node_weights[i])))\n",
    "        graph.add_node(nodes[i])\n",
    "        \n",
    "    from_node_id_to_pos = dict(zip(nodes_id, range(len(nodes_id))))\n",
    "\n",
    "    for e, w in edge_weight.items():\n",
    "        n1_pos = from_node_id_to_pos[e[0]]\n",
    "        n2_pos = from_node_id_to_pos[e[1]]\n",
    "        graph.add_edge(pydot.Edge(nodes[n1_pos], nodes[n2_pos], penwidth=str(w/3), mindist=10))\n",
    "\n",
    "    graph.write_png('../../../thesis/images/clust_sem_imn_'+file_name_out+'_'+v+'.png', prog='circo')"
   ]
  },
  {
   "cell_type": "code",
   "execution_count": 96,
   "metadata": {},
   "outputs": [],
   "source": [
    "def draw_annotated_imn(G, df_link_v, v):\n",
    "    # compute the new list of nodes weights\n",
    "    node_weights = []\n",
    "    # compute the new list of nodes colors\n",
    "    colors = []\n",
    "    # a dict from location id to cluster id\n",
    "    from_loc_to_cluster = dict()\n",
    "    nodes_id = []\n",
    "\n",
    "    # for each cluster take the corresponding df\n",
    "    for i in range(1,7):\n",
    "        df_i = df_link_v[df_link_v[\"link_cluster\"] == i]\n",
    "        # if there's at least a location of that cluster\n",
    "        if len(df_i) != 0:\n",
    "            nodes_id.append(i)\n",
    "            # insert all location in that dict\n",
    "            for i, n in enumerate(df_i[\"loc_id\"]):\n",
    "                from_loc_to_cluster[n] = list(df_i[\"link_cluster\"])[i]\n",
    "                \n",
    "    node_weights = scale_nodes(node_weights)\n",
    "    \n",
    "    # transform the old edges into the new ones\n",
    "    new_edges = []\n",
    "    edge_weight = dict()\n",
    "    \n",
    "    for ed in G.edges.data('weight'):\n",
    "        new_edges.append((from_loc_to_cluster[ed[0]], from_loc_to_cluster[ed[1]]))\n",
    "        first_node = from_loc_to_cluster[ed[0]]\n",
    "        second_node = from_loc_to_cluster[ed[1]]\n",
    "        edge_weight[from_loc_to_cluster[ed[0]], from_loc_to_cluster[ed[1]]] = 0\n",
    "\n",
    "    for ed in G.edges.data('weight'):\n",
    "        new_edges.append((from_loc_to_cluster[ed[0]], from_loc_to_cluster[ed[1]]))\n",
    "        first_node = from_loc_to_cluster[ed[0]]\n",
    "        second_node = from_loc_to_cluster[ed[1]]\n",
    "        edge_weight[from_loc_to_cluster[ed[0]], from_loc_to_cluster[ed[1]]] += ed[2]\n",
    "            \n",
    "    w = edge_weight.values()\n",
    "    \n",
    "    min_w = min(w)\n",
    "    max_w = max(w)\n",
    "    r = float(max_w - min_w)\n",
    "    edge_scaled = [translate(wi, min_w, max_w, 0.3, 10) for wi in w]\n",
    "        \n",
    "    edge_weight = dict(zip(edge_weight.keys(), edge_scaled))\n",
    "        \n",
    "    #draw_pydot_graph(node_weights, colors, nodes_id, edge_weight, file_name_in, v)\n",
    "    \n",
    "    return nodes_id, edge_weight.keys()"
   ]
  },
  {
   "cell_type": "markdown",
   "metadata": {},
   "source": [
    "#### For each vehicle collapse the nodes according to the clustering, compute the annotated imn and store the result"
   ]
  },
  {
   "cell_type": "code",
   "execution_count": 94,
   "metadata": {},
   "outputs": [],
   "source": [
    "def store_annotated_imns(path, file_name_in):\n",
    "    nodes_list = []\n",
    "    edge_list = []\n",
    "    \n",
    "    f = open_file(path+file_name_in)\n",
    "    for v in list(f): #vehicles:\n",
    "        # compute the imn graph\n",
    "        g = f[v][\"graph\"]\n",
    "        G = from_imn_to_graph(g)\n",
    "        \n",
    "        df_link_v = df_link[df_link[\"vehicle\"] == v]        \n",
    "        \n",
    "        nodes_order = G.nodes\n",
    "        nodes_weights = scale_nodes(nodes_sizes(f[v]))\n",
    "\n",
    "        nodes_ordered = [] \n",
    "        for pos in nodes_order:\n",
    "            nodes_ordered.append(nodes_weights[pos])\n",
    "            \n",
    "        print(len(df_link_v[\"link_cluster\"]))\n",
    "        print(len(G.nodes))\n",
    "\n",
    "        # take only the data about the vehicle\n",
    "        \n",
    "        df_link_v = df_link_v.assign(graph_node = nodes_ordered) \n",
    "\n",
    "        nodes_id, edges = draw_annotated_imn(G, df_link_v, v)\n",
    "        nodes_list.append(nodes_id)\n",
    "        edge_list.append(edges)\n",
    "        \n",
    "    return nodes_list, edge_list"
   ]
  },
  {
   "cell_type": "code",
   "execution_count": 86,
   "metadata": {},
   "outputs": [],
   "source": [
    "def scale_nodes(nodes):\n",
    "    min_n = min(nodes)\n",
    "    max_n = max(nodes)\n",
    "    r = float(max_n - min_n)\n",
    "    return [translate(ni, min_n, max_n, 1000, 2500) for ni in nodes]"
   ]
  },
  {
   "cell_type": "code",
   "execution_count": 97,
   "metadata": {},
   "outputs": [
    {
     "name": "stdout",
     "output_type": "stream",
     "text": [
      "147\n",
      "108\n"
     ]
    },
    {
     "ename": "ValueError",
     "evalue": "Length of values does not match length of index",
     "output_type": "error",
     "traceback": [
      "\u001b[1;31m---------------------------------------------------------------------------\u001b[0m",
      "\u001b[1;31mValueError\u001b[0m                                Traceback (most recent call last)",
      "\u001b[1;32m<ipython-input-97-de103e9ca234>\u001b[0m in \u001b[0;36m<module>\u001b[1;34m\u001b[0m\n\u001b[1;32m----> 1\u001b[1;33m \u001b[0mnodes_list\u001b[0m\u001b[1;33m,\u001b[0m \u001b[0medge_list\u001b[0m \u001b[1;33m=\u001b[0m \u001b[0mstore_annotated_imns\u001b[0m\u001b[1;33m(\u001b[0m\u001b[0mpath\u001b[0m\u001b[1;33m,\u001b[0m \u001b[0mfile_name_in\u001b[0m\u001b[1;33m)\u001b[0m\u001b[1;33m\u001b[0m\u001b[1;33m\u001b[0m\u001b[0m\n\u001b[0m",
      "\u001b[1;32m<ipython-input-94-41c3f03bc23c>\u001b[0m in \u001b[0;36mstore_annotated_imns\u001b[1;34m(path, file_name_in)\u001b[0m\n\u001b[0;32m     23\u001b[0m         \u001b[1;31m# take only the data about the vehicle\u001b[0m\u001b[1;33m\u001b[0m\u001b[1;33m\u001b[0m\u001b[1;33m\u001b[0m\u001b[0m\n\u001b[0;32m     24\u001b[0m \u001b[1;33m\u001b[0m\u001b[0m\n\u001b[1;32m---> 25\u001b[1;33m         \u001b[0mdf_link_v\u001b[0m \u001b[1;33m=\u001b[0m \u001b[0mdf_link_v\u001b[0m\u001b[1;33m.\u001b[0m\u001b[0massign\u001b[0m\u001b[1;33m(\u001b[0m\u001b[0mgraph_node\u001b[0m \u001b[1;33m=\u001b[0m \u001b[0mnodes_ordered\u001b[0m\u001b[1;33m)\u001b[0m\u001b[1;33m\u001b[0m\u001b[1;33m\u001b[0m\u001b[0m\n\u001b[0m\u001b[0;32m     26\u001b[0m \u001b[1;33m\u001b[0m\u001b[0m\n\u001b[0;32m     27\u001b[0m         \u001b[0mnodes_id\u001b[0m\u001b[1;33m,\u001b[0m \u001b[0medges\u001b[0m \u001b[1;33m=\u001b[0m \u001b[0mdraw_annotated_imn\u001b[0m\u001b[1;33m(\u001b[0m\u001b[0mG\u001b[0m\u001b[1;33m,\u001b[0m \u001b[0mdf_link_v\u001b[0m\u001b[1;33m,\u001b[0m \u001b[0mv\u001b[0m\u001b[1;33m)\u001b[0m\u001b[1;33m\u001b[0m\u001b[1;33m\u001b[0m\u001b[0m\n",
      "\u001b[1;32m~\\Anaconda3\\lib\\site-packages\\pandas\\core\\frame.py\u001b[0m in \u001b[0;36massign\u001b[1;34m(self, **kwargs)\u001b[0m\n\u001b[0;32m   3667\u001b[0m         \u001b[1;32mif\u001b[0m \u001b[0mPY36\u001b[0m\u001b[1;33m:\u001b[0m\u001b[1;33m\u001b[0m\u001b[1;33m\u001b[0m\u001b[0m\n\u001b[0;32m   3668\u001b[0m             \u001b[1;32mfor\u001b[0m \u001b[0mk\u001b[0m\u001b[1;33m,\u001b[0m \u001b[0mv\u001b[0m \u001b[1;32min\u001b[0m \u001b[0mkwargs\u001b[0m\u001b[1;33m.\u001b[0m\u001b[0mitems\u001b[0m\u001b[1;33m(\u001b[0m\u001b[1;33m)\u001b[0m\u001b[1;33m:\u001b[0m\u001b[1;33m\u001b[0m\u001b[1;33m\u001b[0m\u001b[0m\n\u001b[1;32m-> 3669\u001b[1;33m                 \u001b[0mdata\u001b[0m\u001b[1;33m[\u001b[0m\u001b[0mk\u001b[0m\u001b[1;33m]\u001b[0m \u001b[1;33m=\u001b[0m \u001b[0mcom\u001b[0m\u001b[1;33m.\u001b[0m\u001b[0mapply_if_callable\u001b[0m\u001b[1;33m(\u001b[0m\u001b[0mv\u001b[0m\u001b[1;33m,\u001b[0m \u001b[0mdata\u001b[0m\u001b[1;33m)\u001b[0m\u001b[1;33m\u001b[0m\u001b[1;33m\u001b[0m\u001b[0m\n\u001b[0m\u001b[0;32m   3670\u001b[0m         \u001b[1;32melse\u001b[0m\u001b[1;33m:\u001b[0m\u001b[1;33m\u001b[0m\u001b[1;33m\u001b[0m\u001b[0m\n\u001b[0;32m   3671\u001b[0m             \u001b[1;31m# <= 3.5: do all calculations first...\u001b[0m\u001b[1;33m\u001b[0m\u001b[1;33m\u001b[0m\u001b[1;33m\u001b[0m\u001b[0m\n",
      "\u001b[1;32m~\\Anaconda3\\lib\\site-packages\\pandas\\core\\frame.py\u001b[0m in \u001b[0;36m__setitem__\u001b[1;34m(self, key, value)\u001b[0m\n\u001b[0;32m   3485\u001b[0m         \u001b[1;32melse\u001b[0m\u001b[1;33m:\u001b[0m\u001b[1;33m\u001b[0m\u001b[1;33m\u001b[0m\u001b[0m\n\u001b[0;32m   3486\u001b[0m             \u001b[1;31m# set column\u001b[0m\u001b[1;33m\u001b[0m\u001b[1;33m\u001b[0m\u001b[1;33m\u001b[0m\u001b[0m\n\u001b[1;32m-> 3487\u001b[1;33m             \u001b[0mself\u001b[0m\u001b[1;33m.\u001b[0m\u001b[0m_set_item\u001b[0m\u001b[1;33m(\u001b[0m\u001b[0mkey\u001b[0m\u001b[1;33m,\u001b[0m \u001b[0mvalue\u001b[0m\u001b[1;33m)\u001b[0m\u001b[1;33m\u001b[0m\u001b[1;33m\u001b[0m\u001b[0m\n\u001b[0m\u001b[0;32m   3488\u001b[0m \u001b[1;33m\u001b[0m\u001b[0m\n\u001b[0;32m   3489\u001b[0m     \u001b[1;32mdef\u001b[0m \u001b[0m_setitem_slice\u001b[0m\u001b[1;33m(\u001b[0m\u001b[0mself\u001b[0m\u001b[1;33m,\u001b[0m \u001b[0mkey\u001b[0m\u001b[1;33m,\u001b[0m \u001b[0mvalue\u001b[0m\u001b[1;33m)\u001b[0m\u001b[1;33m:\u001b[0m\u001b[1;33m\u001b[0m\u001b[1;33m\u001b[0m\u001b[0m\n",
      "\u001b[1;32m~\\Anaconda3\\lib\\site-packages\\pandas\\core\\frame.py\u001b[0m in \u001b[0;36m_set_item\u001b[1;34m(self, key, value)\u001b[0m\n\u001b[0;32m   3562\u001b[0m \u001b[1;33m\u001b[0m\u001b[0m\n\u001b[0;32m   3563\u001b[0m         \u001b[0mself\u001b[0m\u001b[1;33m.\u001b[0m\u001b[0m_ensure_valid_index\u001b[0m\u001b[1;33m(\u001b[0m\u001b[0mvalue\u001b[0m\u001b[1;33m)\u001b[0m\u001b[1;33m\u001b[0m\u001b[1;33m\u001b[0m\u001b[0m\n\u001b[1;32m-> 3564\u001b[1;33m         \u001b[0mvalue\u001b[0m \u001b[1;33m=\u001b[0m \u001b[0mself\u001b[0m\u001b[1;33m.\u001b[0m\u001b[0m_sanitize_column\u001b[0m\u001b[1;33m(\u001b[0m\u001b[0mkey\u001b[0m\u001b[1;33m,\u001b[0m \u001b[0mvalue\u001b[0m\u001b[1;33m)\u001b[0m\u001b[1;33m\u001b[0m\u001b[1;33m\u001b[0m\u001b[0m\n\u001b[0m\u001b[0;32m   3565\u001b[0m         \u001b[0mNDFrame\u001b[0m\u001b[1;33m.\u001b[0m\u001b[0m_set_item\u001b[0m\u001b[1;33m(\u001b[0m\u001b[0mself\u001b[0m\u001b[1;33m,\u001b[0m \u001b[0mkey\u001b[0m\u001b[1;33m,\u001b[0m \u001b[0mvalue\u001b[0m\u001b[1;33m)\u001b[0m\u001b[1;33m\u001b[0m\u001b[1;33m\u001b[0m\u001b[0m\n\u001b[0;32m   3566\u001b[0m \u001b[1;33m\u001b[0m\u001b[0m\n",
      "\u001b[1;32m~\\Anaconda3\\lib\\site-packages\\pandas\\core\\frame.py\u001b[0m in \u001b[0;36m_sanitize_column\u001b[1;34m(self, key, value, broadcast)\u001b[0m\n\u001b[0;32m   3747\u001b[0m \u001b[1;33m\u001b[0m\u001b[0m\n\u001b[0;32m   3748\u001b[0m             \u001b[1;31m# turn me into an ndarray\u001b[0m\u001b[1;33m\u001b[0m\u001b[1;33m\u001b[0m\u001b[1;33m\u001b[0m\u001b[0m\n\u001b[1;32m-> 3749\u001b[1;33m             \u001b[0mvalue\u001b[0m \u001b[1;33m=\u001b[0m \u001b[0msanitize_index\u001b[0m\u001b[1;33m(\u001b[0m\u001b[0mvalue\u001b[0m\u001b[1;33m,\u001b[0m \u001b[0mself\u001b[0m\u001b[1;33m.\u001b[0m\u001b[0mindex\u001b[0m\u001b[1;33m,\u001b[0m \u001b[0mcopy\u001b[0m\u001b[1;33m=\u001b[0m\u001b[1;32mFalse\u001b[0m\u001b[1;33m)\u001b[0m\u001b[1;33m\u001b[0m\u001b[1;33m\u001b[0m\u001b[0m\n\u001b[0m\u001b[0;32m   3750\u001b[0m             \u001b[1;32mif\u001b[0m \u001b[1;32mnot\u001b[0m \u001b[0misinstance\u001b[0m\u001b[1;33m(\u001b[0m\u001b[0mvalue\u001b[0m\u001b[1;33m,\u001b[0m \u001b[1;33m(\u001b[0m\u001b[0mnp\u001b[0m\u001b[1;33m.\u001b[0m\u001b[0mndarray\u001b[0m\u001b[1;33m,\u001b[0m \u001b[0mIndex\u001b[0m\u001b[1;33m)\u001b[0m\u001b[1;33m)\u001b[0m\u001b[1;33m:\u001b[0m\u001b[1;33m\u001b[0m\u001b[1;33m\u001b[0m\u001b[0m\n\u001b[0;32m   3751\u001b[0m                 \u001b[1;32mif\u001b[0m \u001b[0misinstance\u001b[0m\u001b[1;33m(\u001b[0m\u001b[0mvalue\u001b[0m\u001b[1;33m,\u001b[0m \u001b[0mlist\u001b[0m\u001b[1;33m)\u001b[0m \u001b[1;32mand\u001b[0m \u001b[0mlen\u001b[0m\u001b[1;33m(\u001b[0m\u001b[0mvalue\u001b[0m\u001b[1;33m)\u001b[0m \u001b[1;33m>\u001b[0m \u001b[1;36m0\u001b[0m\u001b[1;33m:\u001b[0m\u001b[1;33m\u001b[0m\u001b[1;33m\u001b[0m\u001b[0m\n",
      "\u001b[1;32m~\\Anaconda3\\lib\\site-packages\\pandas\\core\\internals\\construction.py\u001b[0m in \u001b[0;36msanitize_index\u001b[1;34m(data, index, copy)\u001b[0m\n\u001b[0;32m    610\u001b[0m \u001b[1;33m\u001b[0m\u001b[0m\n\u001b[0;32m    611\u001b[0m     \u001b[1;32mif\u001b[0m \u001b[0mlen\u001b[0m\u001b[1;33m(\u001b[0m\u001b[0mdata\u001b[0m\u001b[1;33m)\u001b[0m \u001b[1;33m!=\u001b[0m \u001b[0mlen\u001b[0m\u001b[1;33m(\u001b[0m\u001b[0mindex\u001b[0m\u001b[1;33m)\u001b[0m\u001b[1;33m:\u001b[0m\u001b[1;33m\u001b[0m\u001b[1;33m\u001b[0m\u001b[0m\n\u001b[1;32m--> 612\u001b[1;33m         \u001b[1;32mraise\u001b[0m \u001b[0mValueError\u001b[0m\u001b[1;33m(\u001b[0m\u001b[1;34m\"Length of values does not match length of index\"\u001b[0m\u001b[1;33m)\u001b[0m\u001b[1;33m\u001b[0m\u001b[1;33m\u001b[0m\u001b[0m\n\u001b[0m\u001b[0;32m    613\u001b[0m \u001b[1;33m\u001b[0m\u001b[0m\n\u001b[0;32m    614\u001b[0m     \u001b[1;32mif\u001b[0m \u001b[0misinstance\u001b[0m\u001b[1;33m(\u001b[0m\u001b[0mdata\u001b[0m\u001b[1;33m,\u001b[0m \u001b[0mABCIndexClass\u001b[0m\u001b[1;33m)\u001b[0m \u001b[1;32mand\u001b[0m \u001b[1;32mnot\u001b[0m \u001b[0mcopy\u001b[0m\u001b[1;33m:\u001b[0m\u001b[1;33m\u001b[0m\u001b[1;33m\u001b[0m\u001b[0m\n",
      "\u001b[1;31mValueError\u001b[0m: Length of values does not match length of index"
     ]
    }
   ],
   "source": [
    "nodes_list, edge_list = store_annotated_imns(path, file_name_in)"
   ]
  },
  {
   "cell_type": "code",
   "execution_count": null,
   "metadata": {},
   "outputs": [],
   "source": []
  },
  {
   "cell_type": "code",
   "execution_count": null,
   "metadata": {},
   "outputs": [],
   "source": []
  },
  {
   "cell_type": "code",
   "execution_count": 113,
   "metadata": {},
   "outputs": [
    {
     "name": "stdout",
     "output_type": "stream",
     "text": [
      "[1, 2, 4, 5, 6]\n",
      "{5: 1, 9: 1, 10: 1, 12: 1, 33: 1, 40: 1, 54: 1, 56: 1, 59: 1, 74: 1, 78: 1, 0: 2, 1: 2, 2: 2, 3: 2, 4: 2, 6: 2, 7: 2, 8: 2, 11: 2, 13: 2, 14: 2, 15: 2, 16: 2, 17: 2, 18: 2, 19: 2, 20: 2, 21: 2, 22: 2, 23: 2, 24: 2, 25: 2, 27: 2, 28: 2, 29: 2, 30: 2, 31: 2, 32: 2, 34: 2, 35: 2, 36: 2, 37: 2, 38: 2, 39: 2, 41: 2, 42: 2, 43: 2, 44: 2, 45: 2, 46: 2, 47: 2, 48: 2, 49: 2, 50: 2, 51: 2, 52: 2, 53: 2, 55: 2, 57: 2, 58: 2, 60: 2, 61: 2, 62: 2, 63: 2, 64: 2, 65: 2, 66: 2, 67: 2, 68: 2, 69: 2, 70: 2, 71: 2, 73: 2, 75: 2, 77: 2, 79: 2, 80: 2, 81: 2, 82: 2, 83: 2, 76: 4, 84: 4, 85: 4, 86: 4, 87: 4, 95: 4, 26: 5, 88: 5, 90: 5, 92: 5, 96: 5, 97: 5, 99: 5, 100: 5, 101: 5, 102: 5, 103: 5, 107: 5, 108: 5, 113: 5, 115: 5, 116: 5, 117: 5, 118: 5, 119: 5, 120: 5, 125: 5, 126: 5, 129: 5, 132: 5, 134: 5, 135: 5, 136: 5, 139: 5, 140: 5, 141: 5, 146: 5, 72: 6, 89: 6, 91: 6, 93: 6, 94: 6, 98: 6, 104: 6, 105: 6, 106: 6, 109: 6, 110: 6, 111: 6, 112: 6, 114: 6, 121: 6, 122: 6, 123: 6, 124: 6, 127: 6, 128: 6, 130: 6, 131: 6, 133: 6, 137: 6, 138: 6, 142: 6, 143: 6, 144: 6, 145: 6}\n",
      "[(5, 3), (5, 6), (5, 2), (5, 7), (5, 27), (5, 9), (5, 60), (5, 22), (5, 103), (5, 12), (5, 26), (5, 44), (3, 3), (3, 27), (3, 35), (3, 7), (3, 16), (3, 64), (3, 32), (3, 70), (3, 44), (3, 0), (3, 2), (3, 14), (3, 28), (3, 51), (6, 6), (6, 2), (2, 2), (2, 14), (2, 28), (2, 16), (2, 51), (7, 7), (7, 70), (7, 104), (7, 27), (7, 81), (7, 46), (7, 32), (7, 16), (27, 27), (27, 37), (27, 21), (27, 44), (27, 16), (27, 81), (35, 14), (35, 21), (35, 35), (35, 32), (35, 16), (35, 28), (35, 51), (16, 9), (16, 16), (16, 15), (16, 21), (16, 32), (16, 37), (16, 22), (16, 46), (64, 0), (64, 69), (64, 64), (64, 98), (64, 91), (32, 70), (32, 32), (32, 55), (32, 22), (32, 109), (32, 92), (32, 44), (32, 110), (70, 70), (70, 44), (70, 12), (44, 22), (44, 25), (44, 44), (44, 39), (44, 15), (37, 25), (37, 15), (37, 37), (37, 36), (37, 90), (37, 21), (37, 22), (21, 21), (21, 22), (21, 15), (21, 19), (21, 55), (21, 81), (25, 0), (25, 40), (25, 71), (25, 25), (25, 111), (25, 19), (25, 72), (25, 22), (25, 47), (25, 90), (25, 92), (15, 22), (15, 55), (15, 15), (15, 41), (15, 19), (15, 72), (15, 116), (36, 41), (36, 36), (36, 0), (36, 19), (36, 71), (90, 83), (90, 90), (90, 65), (0, 0), (0, 57), (0, 100), (0, 49), (0, 62), (0, 24), (0, 42), (0, 105), (0, 107), (0, 68), (0, 69), (0, 17), (0, 94), (0, 19), (0, 86), (0, 72), (0, 65), (0, 39), (0, 75), (0, 116), (40, 8), (40, 58), (40, 40), (40, 31), (40, 47), (71, 41), (71, 71), (71, 19), (71, 98), (71, 72), (111, 111), (111, 98), (19, 101), (19, 19), (19, 86), (19, 39), (72, 72), (57, 57), (57, 68), (100, 100), (100, 84), (49, 49), (49, 58), (49, 31), (49, 17), (49, 69), (62, 62), (62, 42), (62, 17), (24, 24), (24, 17), (24, 59), (24, 58), (24, 8), (42, 103), (42, 87), (42, 42), (42, 59), (42, 13), (42, 8), (42, 12), (42, 17), (42, 94), (105, 105), (105, 60), (107, 107), (107, 17), (68, 97), (68, 68), (68, 38), (69, 89), (17, 17), (17, 88), (17, 38), (17, 73), (17, 47), (17, 60), (17, 8), (94, 94), (97, 38), (38, 38), (38, 8), (38, 13), (38, 109), (38, 58), (8, 8), (8, 58), (8, 47), (8, 13), (8, 18), (8, 88), (13, 4), (13, 59), (13, 60), (13, 61), (13, 47), (13, 87), (13, 34), (13, 18), (13, 31), (13, 43), (13, 89), (13, 93), (109, 110), (58, 58), (58, 18), (58, 31), (58, 93), (47, 47), (47, 23), (47, 18), (18, 31), (18, 60), (18, 34), (18, 18), (18, 63), (18, 11), (18, 30), (31, 34), (31, 84), (31, 31), (31, 30), (31, 63), (31, 11), (31, 60), (93, 93), (34, 11), (34, 50), (34, 106), (34, 29), (34, 30), (34, 4), (84, 84), (84, 85), (84, 56), (84, 23), (84, 26), (30, 11), (30, 99), (30, 30), (30, 1), (30, 23), (30, 4), (63, 29), (63, 63), (63, 4), (63, 48), (63, 1), (11, 11), (11, 4), (11, 29), (11, 50), (11, 82), (11, 23), (50, 50), (50, 4), (50, 1), (50, 23), (106, 106), (106, 1), (29, 4), (29, 29), (29, 45), (4, 99), (4, 4), (4, 1), (4, 12), (4, 114), (4, 45), (4, 23), (4, 26), (4, 43), (4, 82), (82, 82), (23, 23), (23, 48), (23, 113), (99, 99), (1, 1), (1, 10), (1, 20), (1, 33), (1, 9), (1, 108), (1, 52), (1, 112), (1, 54), (1, 45), (1, 74), (1, 48), (1, 113), (1, 114), (1, 66), (12, 54), (12, 20), (12, 33), (12, 103), (12, 26), (12, 12), (12, 56), (12, 52), (12, 74), (114, 114), (45, 20), (45, 45), (45, 10), (45, 115), (45, 54), (45, 66), (10, 10), (10, 54), (10, 9), (10, 52), (10, 20), (20, 20), (20, 102), (20, 9), (33, 54), (33, 102), (33, 33), (33, 9), (9, 54), (9, 59), (9, 9), (9, 56), (9, 26), (9, 52), (9, 108), (9, 74), (108, 108), (52, 52), (52, 112), (112, 112), (54, 54), (74, 115), (74, 74), (59, 60), (59, 59), (59, 43), (59, 61), (56, 26), (60, 60), (43, 43), (43, 110), (14, 14), (14, 28), (28, 28), (28, 51), (51, 51), (22, 22), (22, 41), (22, 83), (22, 55), (55, 55), (55, 65), (55, 75), (55, 46), (41, 41), (41, 101), (41, 91), (83, 83), (101, 101), (91, 91), (85, 85), (85, 61), (61, 61), (61, 73), (48, 48), (113, 113), (104, 104), (104, 81), (81, 81), (81, 46), (46, 46), (92, 92), (65, 65), (65, 39), (75, 75), (116, 116), (102, 102), (87, 87), (88, 88), (73, 73), (98, 98), (98, 39), (39, 39), (89, 89), (115, 115), (66, 66)]\n",
      "[(1, 2), (1, 2), (1, 2), (1, 2), (1, 2), (1, 1), (1, 2), (1, 2), (1, 5), (1, 1), (1, 5), (1, 2), (2, 2), (2, 2), (2, 2), (2, 2), (2, 2), (2, 2), (2, 2), (2, 2), (2, 2), (2, 2), (2, 2), (2, 2), (2, 2), (2, 2), (2, 2), (2, 2), (2, 2), (2, 2), (2, 2), (2, 2), (2, 2), (2, 2), (2, 2), (2, 6), (2, 2), (2, 2), (2, 2), (2, 2), (2, 2), (2, 2), (2, 2), (2, 2), (2, 2), (2, 2), (2, 2), (2, 2), (2, 2), (2, 2), (2, 2), (2, 2), (2, 2), (2, 2), (2, 1), (2, 2), (2, 2), (2, 2), (2, 2), (2, 2), (2, 2), (2, 2), (2, 2), (2, 2), (2, 2), (2, 6), (2, 6), (2, 2), (2, 2), (2, 2), (2, 2), (2, 6), (2, 5), (2, 2), (2, 6), (2, 2), (2, 2), (2, 1), (2, 2), (2, 2), (2, 2), (2, 2), (2, 2), (2, 2), (2, 2), (2, 2), (2, 2), (2, 5), (2, 2), (2, 2), (2, 2), (2, 2), (2, 2), (2, 2), (2, 2), (2, 2), (2, 2), (2, 1), (2, 2), (2, 2), (2, 6), (2, 2), (2, 6), (2, 2), (2, 2), (2, 5), (2, 5), (2, 2), (2, 2), (2, 2), (2, 2), (2, 2), (2, 6), (2, 5), (2, 2), (2, 2), (2, 2), (2, 2), (2, 2), (5, 2), (5, 5), (5, 2), (2, 2), (2, 2), (2, 5), (2, 2), (2, 2), (2, 2), (2, 2), (2, 6), (2, 5), (2, 2), (2, 2), (2, 2), (2, 6), (2, 2), (2, 4), (2, 6), (2, 2), (2, 2), (2, 2), (2, 5), (1, 2), (1, 2), (1, 1), (1, 2), (1, 2), (2, 2), (2, 2), (2, 2), (2, 6), (2, 6), (6, 6), (6, 6), (2, 5), (2, 2), (2, 4), (2, 2), (6, 6), (2, 2), (2, 2), (5, 5), (5, 4), (2, 2), (2, 2), (2, 2), (2, 2), (2, 2), (2, 2), (2, 2), (2, 2), (2, 2), (2, 2), (2, 1), (2, 2), (2, 2), (2, 5), (2, 4), (2, 2), (2, 1), (2, 2), (2, 2), (2, 1), (2, 2), (2, 6), (6, 6), (6, 2), (5, 5), (5, 2), (2, 5), (2, 2), (2, 2), (2, 6), (2, 2), (2, 5), (2, 2), (2, 2), (2, 2), (2, 2), (2, 2), (6, 6), (5, 2), (2, 2), (2, 2), (2, 2), (2, 6), (2, 2), (2, 2), (2, 2), (2, 2), (2, 2), (2, 2), (2, 5), (2, 2), (2, 1), (2, 2), (2, 2), (2, 2), (2, 4), (2, 2), (2, 2), (2, 2), (2, 2), (2, 6), (2, 6), (6, 6), (2, 2), (2, 2), (2, 2), (2, 6), (2, 2), (2, 2), (2, 2), (2, 2), (2, 2), (2, 2), (2, 2), (2, 2), (2, 2), (2, 2), (2, 2), (2, 4), (2, 2), (2, 2), (2, 2), (2, 2), (2, 2), (6, 6), (2, 2), (2, 2), (2, 6), (2, 2), (2, 2), (2, 2), (4, 4), (4, 4), (4, 1), (4, 2), (4, 5), (2, 2), (2, 5), (2, 2), (2, 2), (2, 2), (2, 2), (2, 2), (2, 2), (2, 2), (2, 2), (2, 2), (2, 2), (2, 2), (2, 2), (2, 2), (2, 2), (2, 2), (2, 2), (2, 2), (2, 2), (2, 2), (6, 6), (6, 2), (2, 2), (2, 2), (2, 2), (2, 5), (2, 2), (2, 2), (2, 1), (2, 6), (2, 2), (2, 2), (2, 5), (2, 2), (2, 2), (2, 2), (2, 2), (2, 2), (2, 5), (5, 5), (2, 2), (2, 1), (2, 2), (2, 1), (2, 1), (2, 5), (2, 2), (2, 6), (2, 1), (2, 2), (2, 1), (2, 2), (2, 5), (2, 6), (2, 2), (1, 1), (1, 2), (1, 1), (1, 5), (1, 5), (1, 1), (1, 1), (1, 2), (1, 1), (6, 6), (2, 2), (2, 2), (2, 1), (2, 5), (2, 1), (2, 2), (1, 1), (1, 1), (1, 1), (1, 2), (1, 2), (2, 2), (2, 5), (2, 1), (1, 1), (1, 5), (1, 1), (1, 1), (1, 1), (1, 1), (1, 1), (1, 1), (1, 5), (1, 2), (1, 5), (1, 1), (5, 5), (2, 2), (2, 6), (6, 6), (1, 1), (1, 5), (1, 1), (1, 2), (1, 1), (1, 2), (1, 2), (1, 5), (2, 2), (2, 2), (2, 6), (2, 2), (2, 2), (2, 2), (2, 2), (2, 2), (2, 2), (2, 2), (2, 2), (2, 2), (2, 2), (2, 2), (2, 2), (2, 2), (2, 2), (2, 5), (2, 6), (2, 2), (5, 5), (6, 6), (4, 4), (4, 2), (2, 2), (2, 2), (2, 2), (5, 5), (6, 6), (6, 2), (2, 2), (2, 2), (2, 2), (5, 5), (2, 2), (2, 2), (2, 2), (5, 5), (5, 5), (4, 4), (5, 5), (2, 2), (6, 6), (6, 2), (2, 2), (6, 6), (5, 5), (2, 2)]\n"
     ]
    },
    {
     "ename": "AttributeError",
     "evalue": "'list' object has no attribute 'keys'",
     "output_type": "error",
     "traceback": [
      "\u001b[1;31m---------------------------------------------------------------------------\u001b[0m",
      "\u001b[1;31mAttributeError\u001b[0m                            Traceback (most recent call last)",
      "\u001b[1;32m<ipython-input-113-7133eef75b63>\u001b[0m in \u001b[0;36m<module>\u001b[1;34m\u001b[0m\n\u001b[0;32m     70\u001b[0m     \u001b[0mprint\u001b[0m\u001b[1;33m(\u001b[0m\u001b[0mnew_edges\u001b[0m\u001b[1;33m)\u001b[0m\u001b[1;33m\u001b[0m\u001b[1;33m\u001b[0m\u001b[0m\n\u001b[0;32m     71\u001b[0m \u001b[1;33m\u001b[0m\u001b[0m\n\u001b[1;32m---> 72\u001b[1;33m     \u001b[0mprint\u001b[0m\u001b[1;33m(\u001b[0m\u001b[0mnodes_id\u001b[0m\u001b[1;33m,\u001b[0m \u001b[0mnew_edges\u001b[0m\u001b[1;33m.\u001b[0m\u001b[0mkeys\u001b[0m\u001b[1;33m(\u001b[0m\u001b[1;33m)\u001b[0m\u001b[1;33m)\u001b[0m\u001b[1;33m\u001b[0m\u001b[1;33m\u001b[0m\u001b[0m\n\u001b[0m",
      "\u001b[1;31mAttributeError\u001b[0m: 'list' object has no attribute 'keys'"
     ]
    }
   ],
   "source": [
    "nodes_list = []\n",
    "edge_list = []\n",
    "\n",
    "# get dataframe not normalized\n",
    "file_name = '_area'+id_area+'_month'+month_code+'_week'+ week\n",
    "file_name_in = 'loc_feat'+ file_name + '_complete.csv'\n",
    "\n",
    "# read dataframe with location features, extract only the ones we care about\n",
    "df_complete = pd.read_csv(path+file_name_in)\n",
    "df_complete = df_complete[[\"vehicle\", \"loc_id\", \"loc_proto_lat\", \"loc_proto_lon\"]]\n",
    "\n",
    "# read the list of linkage clusters for each location\n",
    "with open(path + \"link_cluster\" + file_name + '_log.pickle', 'rb') as fp:\n",
    "    df_link = pickle.load(fp)\n",
    "    link_cluster = df_link[\"link_cluster\"]\n",
    "    \n",
    "# read the imn of the vehicle\n",
    "with open(path+\"imn_light\"+file_name+'.json', 'rb') as fp:\n",
    "    file_j = json.load(fp)\n",
    "\n",
    "# store the linkage cluster as new column of the df\n",
    "df_complete = df_complete.assign(link_cluster = link_cluster) \n",
    "\n",
    "f = open_file(path+'imn_light_area'+id_area+'_month'+month_code+'_week'+ week)\n",
    "for v in list(f):    \n",
    "    g = f[v][\"graph\"]\n",
    "    G1 = from_imn_to_graph(g)\n",
    "\n",
    "    # extract the df of locations only of that vehicle\n",
    "    df_v = df_complete[df_complete[\"vehicle\"] == v]\n",
    "\n",
    "    imn_v = file_j[v]\n",
    "\n",
    "    # extract the dict of nextlocations and the location features\n",
    "    location_nextlocs = imn_v[\"location_nextlocs\"]\n",
    "\n",
    "    lat_list = list(df_v[\"loc_proto_lat\"])\n",
    "    lon_list = list(df_v[\"loc_proto_lon\"])\n",
    "\n",
    "    link_cluster = df_v[\"link_cluster\"]\n",
    "\n",
    "    G = nx.Graph()\n",
    "    G.add_nodes_from(G1.nodes)\n",
    "\n",
    "    for lid1 in location_nextlocs:\n",
    "        for lid2 in location_nextlocs[lid1]:\n",
    "            w.append(location_nextlocs[lid1][lid2])\n",
    "            G.add_edge(int(lid1), int(lid2))\n",
    "                    \n",
    "    # a dict from location id to cluster id\n",
    "    from_loc_to_cluster = dict()\n",
    "    nodes_id = []\n",
    "\n",
    "    # for each cluster take the corresponding df\n",
    "    for i in range(1,7):\n",
    "        df_i = df_v[df_v[\"link_cluster\"] == i]\n",
    "        # if there's at least a location of that cluster\n",
    "        if len(df_i) != 0:\n",
    "            nodes_id.append(i)\n",
    "            # insert all location in that dict\n",
    "            for i, n in enumerate(df_i[\"loc_id\"]):\n",
    "                from_loc_to_cluster[n] = list(df_i[\"link_cluster\"])[i]\n",
    "            \n",
    "    print(nodes_id)\n",
    "                \n",
    "    # transform the old edges into the new ones\n",
    "    new_edges = []\n",
    "    \n",
    "    for ed in G.edges:\n",
    "        new_edges.append((from_loc_to_cluster[ed[0]], from_loc_to_cluster[ed[1]]))\n",
    "    \n",
    "    nodes_list.append(nodes_id)\n",
    "    edge_list.append(new_edges)"
   ]
  },
  {
   "cell_type": "code",
   "execution_count": null,
   "metadata": {},
   "outputs": [],
   "source": [
    "print(\"mean(n_nodes)\", np.mean(n_nodes))\n",
    "print(\"std(n_nodes)\", np.std(n_nodes))\n",
    "print(\"mean(n_edges)\", np.mean(n_edges))\n",
    "print(\"std(n_edges)\", np.std(n_edges))\n",
    "print(\"mean(densities)\", np.mean(densities))\n",
    "print(\"std(densities)\", np.std(densities))\n",
    "print(\"mean(avg_node_degree)\", np.mean(avg_node_degree))\n",
    "print(\"std(avg_node_degree)\", np.std(avg_node_degree))\n",
    "print(\"mean(clust_coeff)\", np.mean(clust_coeff))\n",
    "print(\"std(clust_coeff)\", np.std(clust_coeff))\n",
    "print(\"mean(degree_centrality)\", np.mean(degree_centrality))\n",
    "print(\"std(degree_centrality)\", np.std(degree_centrality))"
   ]
  },
  {
   "cell_type": "code",
   "execution_count": null,
   "metadata": {},
   "outputs": [],
   "source": []
  },
  {
   "cell_type": "code",
   "execution_count": null,
   "metadata": {},
   "outputs": [],
   "source": []
  },
  {
   "cell_type": "code",
   "execution_count": 148,
   "metadata": {},
   "outputs": [],
   "source": [
    "def imn_annotated_stats(path, file_name_in, nodes_list, edge_list):\n",
    "    f = open_file(path+file_name_in)\n",
    "    \n",
    "    n_nodes = [] #\n",
    "    n_edges = []\n",
    "    densities = []\n",
    "    clust_coeff = []\n",
    "    degree_centrality = []\n",
    "    avg_node_degree = []\n",
    "    \n",
    "    for i, v in enumerate(list(f)):\n",
    "        G = nx.DiGraph()\n",
    "        G.add_nodes_from(nodes_list[i])\n",
    "        G.add_edges_from(edge_list[i])\n",
    "        G = G.to_undirected()\n",
    "\n",
    "        n_nodes.append(len(G.nodes))\n",
    "        n_edges.append(len(G.edges))\n",
    "        densities.append(nx.density(G))\n",
    "        clust_coeff.append(nx.average_clustering(G))\n",
    "        degree_centrality.append(np.mean(list(nx.degree_centrality(G).values())))\n",
    "        degree_list = [d[1] for d in G.degree]\n",
    "        avg_node_degree.append(np.mean(degree_list))\n",
    "        \n",
    "    print(\"mean(n_nodes)\", np.mean(n_nodes))\n",
    "    print(\"std(n_nodes)\", np.std(n_nodes))\n",
    "    print(\"mean(n_edges)\", np.mean(n_edges))\n",
    "    print(\"std(n_edges)\", np.std(n_edges))\n",
    "    print(\"mean(densities)\", np.mean(densities))\n",
    "    print(\"std(densities)\", np.std(densities))\n",
    "    print(\"mean(avg_node_degree)\", np.mean(avg_node_degree))\n",
    "    print(\"std(avg_node_degree)\", np.std(avg_node_degree))\n",
    "    print(\"mean(clust_coeff)\", np.mean(clust_coeff))\n",
    "    print(\"std(clust_coeff)\", np.std(clust_coeff))\n",
    "    print(\"mean(degree_centrality)\", np.mean(degree_centrality))\n",
    "    print(\"std(degree_centrality)\", np.std(degree_centrality))"
   ]
  },
  {
   "cell_type": "code",
   "execution_count": 149,
   "metadata": {},
   "outputs": [
    {
     "name": "stdout",
     "output_type": "stream",
     "text": [
      "mean(n_nodes) 5.057347670250896\n",
      "std(n_nodes) 1.0249266732683902\n",
      "mean(n_edges) 13.308243727598565\n",
      "std(n_edges) 4.560816062073364\n",
      "mean(densities) 1.2795698924731183\n",
      "std(densities) 0.3173227407822376\n",
      "mean(avg_node_degree) 5.0976105137395455\n",
      "std(avg_node_degree) 1.0968013417327576\n",
      "mean(clust_coeff) 0.8514934289127838\n",
      "std(clust_coeff) 0.204545571838246\n",
      "mean(degree_centrality) 1.2903225806451613\n",
      "std(degree_centrality) 0.28950502170165004\n"
     ]
    }
   ],
   "source": [
    "imn_annotated_stats(path, file_name_in, nodes_list, edge_list)"
   ]
  },
  {
   "cell_type": "code",
   "execution_count": null,
   "metadata": {},
   "outputs": [],
   "source": []
  },
  {
   "cell_type": "code",
   "execution_count": null,
   "metadata": {},
   "outputs": [],
   "source": []
  },
  {
   "cell_type": "code",
   "execution_count": null,
   "metadata": {},
   "outputs": [],
   "source": [
    "\\begin{table}[t]\n",
    "    \\centering\n",
    "    \\begin{tabular}{|c|c|c|}\n",
    "    \\hline\n",
    "    \\textbf{Measure} & \\textbf{Inter-regional Area} & \\textbf{Urban Area} \\\\  \n",
    "    \\hline\n",
    "    Nodes &  $\\pm$  & 5.06 $\\pm$ 1.02 \\\\ \n",
    "    Edges &  $\\pm$  & 13.31 $\\pm$ 4.56 \\\\ \n",
    "    Density &  $\\pm$  & 1.28 $\\pm$ 0.32 \\\\ \n",
    "    Degree &  $\\pm$  & 5.10 $\\pm$ 1.10 \\\\\n",
    "    Clus. Coef. &  $\\pm$  & 0.85 $\\pm$ 0.20 \\\\\n",
    "    Degree Centrality &  $\\pm$ 0.31 & 1.29 $\\pm$ 0.29 \\\\\n",
    "    \\hline\n",
    "    \\end{tabular}\n",
    "\\end{table}\n"
   ]
  },
  {
   "cell_type": "code",
   "execution_count": null,
   "metadata": {},
   "outputs": [],
   "source": []
  },
  {
   "cell_type": "code",
   "execution_count": null,
   "metadata": {},
   "outputs": [],
   "source": []
  }
 ],
 "metadata": {
  "kernelspec": {
   "display_name": "Python 3",
   "language": "python",
   "name": "python3"
  },
  "language_info": {
   "codemirror_mode": {
    "name": "ipython",
    "version": 3
   },
   "file_extension": ".py",
   "mimetype": "text/x-python",
   "name": "python",
   "nbconvert_exporter": "python",
   "pygments_lexer": "ipython3",
   "version": "3.7.3"
  }
 },
 "nbformat": 4,
 "nbformat_minor": 2
}
