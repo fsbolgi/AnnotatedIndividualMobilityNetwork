{
 "cells": [
  {
   "cell_type": "markdown",
   "metadata": {},
   "source": [
    "# DATA UNDERSTANDING PER AREA"
   ]
  },
  {
   "cell_type": "code",
   "execution_count": 13,
   "metadata": {},
   "outputs": [],
   "source": [
    "stop = \"5\""
   ]
  },
  {
   "cell_type": "markdown",
   "metadata": {},
   "source": [
    "### IMPORT LIBRARIES"
   ]
  },
  {
   "cell_type": "code",
   "execution_count": 14,
   "metadata": {},
   "outputs": [],
   "source": [
    "# folium allows to visualize geolocalized data with the jupyter notebook\n",
    "import folium\n",
    "from folium.plugins import MarkerCluster\n",
    "# pandas is needed to read the csv file and to perform some basic operations on dataframes\n",
    "import pandas as pd\n",
    "# matplotlib is used to draw graphs\n",
    "import matplotlib.pyplot as plt\n",
    "# module for different stats\n",
    "from statistics import mean \n",
    "\n",
    "import numpy as np\n",
    "import folium\n",
    "from folium import plugins\n",
    "from folium.plugins import HeatMap\n",
    "import selenium.webdriver"
   ]
  },
  {
   "cell_type": "code",
   "execution_count": 15,
   "metadata": {},
   "outputs": [],
   "source": [
    "df2 = pd.read_csv('../../../datasets/in/Traj'+stop+'min/area2_month9_10_week0_stops.csv') "
   ]
  },
  {
   "cell_type": "code",
   "execution_count": 16,
   "metadata": {},
   "outputs": [
    {
     "data": {
      "text/html": [
       "<div>\n",
       "<style scoped>\n",
       "    .dataframe tbody tr th:only-of-type {\n",
       "        vertical-align: middle;\n",
       "    }\n",
       "\n",
       "    .dataframe tbody tr th {\n",
       "        vertical-align: top;\n",
       "    }\n",
       "\n",
       "    .dataframe thead th {\n",
       "        text-align: right;\n",
       "    }\n",
       "</style>\n",
       "<table border=\"1\" class=\"dataframe\">\n",
       "  <thead>\n",
       "    <tr style=\"text-align: right;\">\n",
       "      <th></th>\n",
       "      <th>vehicle</th>\n",
       "      <th>tid</th>\n",
       "      <th>company</th>\n",
       "      <th>vehicletype</th>\n",
       "      <th>length</th>\n",
       "      <th>duration</th>\n",
       "      <th>start_time</th>\n",
       "      <th>end_time</th>\n",
       "      <th>start_point</th>\n",
       "      <th>end_point</th>\n",
       "    </tr>\n",
       "  </thead>\n",
       "  <tbody>\n",
       "    <tr>\n",
       "      <th>0</th>\n",
       "      <td>2580_89690</td>\n",
       "      <td>22967</td>\n",
       "      <td>7740</td>\n",
       "      <td>Van</td>\n",
       "      <td>31.744040</td>\n",
       "      <td>2187.00</td>\n",
       "      <td>2017-09-01 09:13:40</td>\n",
       "      <td>2017-09-01 09:50:07</td>\n",
       "      <td>[38.087194, 23.621821, 1504250.02]</td>\n",
       "      <td>[37.990029, 23.780434, 1504252.207]</td>\n",
       "    </tr>\n",
       "    <tr>\n",
       "      <th>1</th>\n",
       "      <td>2580_89690</td>\n",
       "      <td>22973</td>\n",
       "      <td>7740</td>\n",
       "      <td>Van</td>\n",
       "      <td>2.286135</td>\n",
       "      <td>1063.99</td>\n",
       "      <td>2017-09-01 10:17:17</td>\n",
       "      <td>2017-09-01 10:35:01</td>\n",
       "      <td>[37.990029, 23.780434, 1504253.837]</td>\n",
       "      <td>[37.99487, 23.77367, 1504254.901]</td>\n",
       "    </tr>\n",
       "    <tr>\n",
       "      <th>2</th>\n",
       "      <td>2580_89690</td>\n",
       "      <td>22974</td>\n",
       "      <td>7740</td>\n",
       "      <td>Van</td>\n",
       "      <td>1.359955</td>\n",
       "      <td>744.99</td>\n",
       "      <td>2017-09-01 10:36:01</td>\n",
       "      <td>2017-09-01 10:48:26</td>\n",
       "      <td>[37.99487, 23.77367, 1504254.961]</td>\n",
       "      <td>[38.003875, 23.775085, 1504255.706]</td>\n",
       "    </tr>\n",
       "    <tr>\n",
       "      <th>3</th>\n",
       "      <td>2580_89690</td>\n",
       "      <td>22976</td>\n",
       "      <td>7740</td>\n",
       "      <td>Van</td>\n",
       "      <td>4.464879</td>\n",
       "      <td>1328.05</td>\n",
       "      <td>2017-09-01 11:00:24</td>\n",
       "      <td>2017-09-01 11:22:32</td>\n",
       "      <td>[38.005082, 23.775976, 1504256.424]</td>\n",
       "      <td>[38.028877, 23.789664, 1504257.752]</td>\n",
       "    </tr>\n",
       "    <tr>\n",
       "      <th>4</th>\n",
       "      <td>2580_89690</td>\n",
       "      <td>22978</td>\n",
       "      <td>7740</td>\n",
       "      <td>Van</td>\n",
       "      <td>0.211283</td>\n",
       "      <td>355.96</td>\n",
       "      <td>2017-09-01 11:28:35</td>\n",
       "      <td>2017-09-01 11:34:31</td>\n",
       "      <td>[38.028877, 23.789664, 1504258.115]</td>\n",
       "      <td>[38.028915, 23.789555, 1504258.471]</td>\n",
       "    </tr>\n",
       "  </tbody>\n",
       "</table>\n",
       "</div>"
      ],
      "text/plain": [
       "      vehicle    tid company vehicletype     length  duration  \\\n",
       "0  2580_89690  22967    7740         Van  31.744040   2187.00   \n",
       "1  2580_89690  22973    7740         Van   2.286135   1063.99   \n",
       "2  2580_89690  22974    7740         Van   1.359955    744.99   \n",
       "3  2580_89690  22976    7740         Van   4.464879   1328.05   \n",
       "4  2580_89690  22978    7740         Van   0.211283    355.96   \n",
       "\n",
       "            start_time             end_time  \\\n",
       "0  2017-09-01 09:13:40  2017-09-01 09:50:07   \n",
       "1  2017-09-01 10:17:17  2017-09-01 10:35:01   \n",
       "2  2017-09-01 10:36:01  2017-09-01 10:48:26   \n",
       "3  2017-09-01 11:00:24  2017-09-01 11:22:32   \n",
       "4  2017-09-01 11:28:35  2017-09-01 11:34:31   \n",
       "\n",
       "                           start_point                            end_point  \n",
       "0   [38.087194, 23.621821, 1504250.02]  [37.990029, 23.780434, 1504252.207]  \n",
       "1  [37.990029, 23.780434, 1504253.837]    [37.99487, 23.77367, 1504254.901]  \n",
       "2    [37.99487, 23.77367, 1504254.961]  [38.003875, 23.775085, 1504255.706]  \n",
       "3  [38.005082, 23.775976, 1504256.424]  [38.028877, 23.789664, 1504257.752]  \n",
       "4  [38.028877, 23.789664, 1504258.115]  [38.028915, 23.789555, 1504258.471]  "
      ]
     },
     "execution_count": 16,
     "metadata": {},
     "output_type": "execute_result"
    }
   ],
   "source": [
    "df2.head()"
   ]
  },
  {
   "cell_type": "code",
   "execution_count": 17,
   "metadata": {},
   "outputs": [
    {
     "data": {
      "text/plain": [
       "718"
      ]
     },
     "execution_count": 17,
     "metadata": {},
     "output_type": "execute_result"
    }
   ],
   "source": [
    "len(df2[\"vehicle\"].unique())"
   ]
  },
  {
   "cell_type": "code",
   "execution_count": 7,
   "metadata": {},
   "outputs": [
    {
     "name": "stdout",
     "output_type": "stream",
     "text": [
      "mean n traj 419.86211699164346\n",
      "std n traj 255.74962553329547\n",
      "mean length per vehicle 11.332114613483194\n",
      "std length per vehicle 6.111636185697218\n",
      "mean duration per vehicle 24.652394596883465\n",
      "std duration per vehicle 10.42578928157353\n",
      "mean length all traj 10.400475745894271\n",
      "std length all traj 14.169609738534037\n",
      "mean duration all traj 23.846992894934996\n",
      "std duration all traj 23.819497228948375\n"
     ]
    }
   ],
   "source": [
    "n_traj = []\n",
    "lengths_v = []\n",
    "durations_v = []\n",
    "lengths = []\n",
    "durations = []\n",
    "\n",
    "n_v = len(df2[\"vehicle\"].unique())\n",
    "\n",
    "for v in df2[\"vehicle\"].unique():\n",
    "    df_v = df2[df2[\"vehicle\"] == v]\n",
    "    n_traj.append(len(df_v))\n",
    "    lengths_v.append(np.mean(df_v[\"length\"]))\n",
    "    durations_v.append(np.mean(df_v[\"duration\"]))\n",
    "    lengths.extend(df_v[\"length\"])\n",
    "    durations.extend(df_v[\"duration\"])\n",
    "\n",
    "print(\"mean n traj\", np.mean(n_traj))\n",
    "print(\"std n traj\", np.std(n_traj))\n",
    "print(\"mean length per vehicle\", np.mean(lengths_v))\n",
    "print(\"std length per vehicle\", np.std(lengths_v))\n",
    "print(\"mean duration per vehicle\", np.mean(durations_v)/60)\n",
    "print(\"std duration per vehicle\", np.std(durations_v)/60)\n",
    "print(\"mean length all traj\", np.mean(lengths))\n",
    "print(\"std length all traj\", np.std(lengths))\n",
    "print(\"mean duration all traj\", np.mean(durations)/60)\n",
    "print(\"std duration all traj\", np.std(durations)/60)"
   ]
  },
  {
   "cell_type": "code",
   "execution_count": 19,
   "metadata": {},
   "outputs": [],
   "source": [
    "vehicletypes = []\n",
    "v_list = df2[\"vehicle\"].unique()\n",
    "for v in v_list:\n",
    "    df_i = df2[df2[\"vehicle\"] == v]\n",
    "    vehicletypes.append(df_i[\"vehicletype\"].unique()[0])\n",
    "    \n",
    "s = pd.Series(vehicletypes)"
   ]
  },
  {
   "cell_type": "code",
   "execution_count": 27,
   "metadata": {},
   "outputs": [
    {
     "name": "stdout",
     "output_type": "stream",
     "text": [
      "['Van' 'Truck 3' 'Truck 3 ax.' 'Flatbed truck' 'Truck']\n",
      "Van              509\n",
      "Truck 3          193\n",
      "Truck 3 ax.       13\n",
      "Flatbed truck      2\n",
      "Truck              1\n",
      "dtype: int64\n",
      "718\n",
      "Van              0.708914\n",
      "Truck 3          0.268802\n",
      "Truck 3 ax.      0.018106\n",
      "Flatbed truck    0.002786\n",
      "Truck            0.001393\n",
      "dtype: float64\n"
     ]
    }
   ],
   "source": [
    "print(df2[\"vehicletype\"].unique())\n",
    "print(s.value_counts())\n",
    "sumv = np.sum(s.value_counts())\n",
    "print(sumv)\n",
    "print(np.divide(s.value_counts(), sumv))"
   ]
  },
  {
   "cell_type": "code",
   "execution_count": 28,
   "metadata": {},
   "outputs": [
    {
     "data": {
      "image/png": "[encoded data removed]",
      "text/plain": [
       "<Figure size 504x504 with 1 Axes>"
      ]
     },
     "metadata": {},
     "output_type": "display_data"
    }
   ],
   "source": [
    "fig = plt.figure(figsize=(7, 7)) \n",
    "fig_dims = (1, 1)\n",
    "\n",
    "ax = plt.subplot2grid(fig_dims, (0, 0))\n",
    "labels = df2[\"vehicletype\"].unique()[0:3]\n",
    "sizes = s.value_counts()[0:3]\n",
    "explode = (0.01, 0.05, 0.1)\n",
    "c = [\"#97c170\", \"#dde37a\", \"#e1bd66\"]\n",
    "inside, texts, ltexts = ax.pie(sizes, explode=explode, labels=labels, autopct='%1.1f%%', shadow=True, startangle=50, colors=c)\n",
    "for i in range(len(texts)):\n",
    "    texts[i].set_fontsize(13)\n",
    "    ltexts[i].set_fontsize(13)\n",
    "ax.axis('equal') \n",
    "plt.savefig('../../../thesis/images/Area2_vehicletype.png', format='png', bbox_inches='tight')"
   ]
  },
  {
   "cell_type": "markdown",
   "metadata": {},
   "source": [
    "## AREA 11"
   ]
  },
  {
   "cell_type": "code",
   "execution_count": 8,
   "metadata": {},
   "outputs": [],
   "source": [
    "df11 = pd.read_csv('../../../datasets/in/Traj'+stop+'min/area11_month9_10_week0_stops.csv') "
   ]
  },
  {
   "cell_type": "code",
   "execution_count": 9,
   "metadata": {},
   "outputs": [
    {
     "name": "stdout",
     "output_type": "stream",
     "text": [
      "mean n traj 498.71785714285716\n",
      "std n traj 278.7193462371006\n",
      "mean length per vehicle 7.5310022839187845\n",
      "std length per vehicle 4.855917025273614\n",
      "mean duration per vehicle 20.295399152854777\n",
      "std duration per vehicle 9.055900651840094\n",
      "mean length all traj 6.638653102546265\n",
      "std length all traj 9.653959128689168\n",
      "mean duration all traj 19.246502235255644\n",
      "std duration all traj 19.84913016367212\n"
     ]
    }
   ],
   "source": [
    "n_traj = []\n",
    "lengths_v = []\n",
    "durations_v = []\n",
    "lengths = []\n",
    "durations = []\n",
    "\n",
    "n_v = len(df11[\"vehicle\"].unique())\n",
    "\n",
    "for v in df11[\"vehicle\"].unique():\n",
    "    df_v = df11[df11[\"vehicle\"] == v]\n",
    "    n_traj.append(len(df_v))\n",
    "    lengths_v.append(np.mean(df_v[\"length\"]))\n",
    "    durations_v.append(np.mean(df_v[\"duration\"]))\n",
    "    lengths.extend(df_v[\"length\"])\n",
    "    durations.extend(df_v[\"duration\"])\n",
    "\n",
    "print(\"mean n traj\", np.mean(n_traj))\n",
    "print(\"std n traj\", np.std(n_traj))\n",
    "print(\"mean length per vehicle\", np.mean(lengths_v))\n",
    "print(\"std length per vehicle\", np.std(lengths_v))\n",
    "print(\"mean duration per vehicle\", np.mean(durations_v)/60)\n",
    "print(\"std duration per vehicle\", np.std(durations_v)/60)\n",
    "print(\"mean length all traj\", np.mean(lengths))\n",
    "print(\"std length all traj\", np.std(lengths))\n",
    "print(\"mean duration all traj\", np.mean(durations)/60)\n",
    "print(\"std duration all traj\", np.std(durations)/60)"
   ]
  },
  {
   "cell_type": "code",
   "execution_count": 29,
   "metadata": {},
   "outputs": [],
   "source": [
    "vehicletypes = []\n",
    "v_list = df11[\"vehicle\"].unique()\n",
    "for v in v_list:\n",
    "    df_i = df11[df11[\"vehicle\"] == v]\n",
    "    vehicletypes.append(df_i[\"vehicletype\"].unique()[0])\n",
    "    \n",
    "s = pd.Series(vehicletypes)"
   ]
  },
  {
   "cell_type": "code",
   "execution_count": 30,
   "metadata": {},
   "outputs": [
    {
     "name": "stdout",
     "output_type": "stream",
     "text": [
      "['Truck 3' 'Van' 'Truck 3 ax.']\n",
      "Van            208\n",
      "Truck 3         69\n",
      "Truck 3 ax.      3\n",
      "dtype: int64\n",
      "280\n",
      "Van            0.742857\n",
      "Truck 3        0.246429\n",
      "Truck 3 ax.    0.010714\n",
      "dtype: float64\n"
     ]
    }
   ],
   "source": [
    "print(df11[\"vehicletype\"].unique())\n",
    "print(s.value_counts())\n",
    "sumv = np.sum(s.value_counts())\n",
    "print(sumv)\n",
    "print(np.divide(s.value_counts(), sumv))"
   ]
  },
  {
   "cell_type": "code",
   "execution_count": 32,
   "metadata": {},
   "outputs": [
    {
     "data": {
      "image/png": "[encoded data removed]",
      "text/plain": [
       "<Figure size 504x504 with 1 Axes>"
      ]
     },
     "metadata": {},
     "output_type": "display_data"
    }
   ],
   "source": [
    "fig = plt.figure(figsize=(7, 7)) \n",
    "fig_dims = (1, 1)\n",
    "\n",
    "ax = plt.subplot2grid(fig_dims, (0, 0))\n",
    "labels = df2[\"vehicletype\"].unique()[0:3]\n",
    "sizes = s.value_counts()[0:3]\n",
    "explode = (0.01, 0.05, 0.01)\n",
    "c = [\"#97c170\", \"#dde37a\", \"#e1bd66\"]\n",
    "inside, texts, ltexts = ax.pie(sizes, explode=explode, labels=labels, autopct='%1.1f%%', shadow=True, startangle=50, colors=c)\n",
    "for i in range(len(texts)):\n",
    "    texts[i].set_fontsize(13)\n",
    "    ltexts[i].set_fontsize(13)\n",
    "ax.axis('equal') \n",
    "\n",
    "plt.savefig('../../../thesis/images/Area11_vehicletype.png', format='png', bbox_inches='tight')"
   ]
  },
  {
   "cell_type": "code",
   "execution_count": 14,
   "metadata": {},
   "outputs": [
    {
     "name": "stderr",
     "output_type": "stream",
     "text": [
      "C:\\Users\\Francesca\\Anaconda3\\lib\\site-packages\\selenium\\webdriver\\phantomjs\\webdriver.py:49: UserWarning: Selenium support for PhantomJS has been deprecated, please use headless versions of Chrome or Firefox instead\n",
      "  warnings.warn('Selenium support for PhantomJS has been deprecated, please use headless '\n"
     ]
    }
   ],
   "source": [
    "driver = selenium.webdriver.PhantomJS()"
   ]
  },
  {
   "cell_type": "code",
   "execution_count": 28,
   "metadata": {},
   "outputs": [],
   "source": [
    "start_points_string = list(df2[\"start_point\"])\n",
    "end_points_string = list(df2[\"end_point\"])\n",
    "\n",
    "points = []\n",
    "# in csv points are stored as strings\n",
    "for i in range(len(start_points_string)):\n",
    "    p_start = start_points_string[i]\n",
    "    p_0 = (p_start.split(','))[0][1:]\n",
    "    p_1 = (p_start.split(','))[1][1:]\n",
    "    points.append([float(p_0), float(p_1)])"
   ]
  },
  {
   "cell_type": "code",
   "execution_count": 29,
   "metadata": {},
   "outputs": [],
   "source": [
    "m = folium.Map(location=[38, 23], zoom_start=10) ## area 2\n",
    "\n",
    "# Plot it on the map\n",
    "HeatMap(points).add_to(m)\n",
    "\n",
    "m.save('../../../thesis/images/heatmap_area_2.html')"
   ]
  },
  {
   "cell_type": "code",
   "execution_count": 30,
   "metadata": {},
   "outputs": [
    {
     "data": {
      "text/plain": [
       "True"
      ]
     },
     "execution_count": 30,
     "metadata": {},
     "output_type": "execute_result"
    }
   ],
   "source": [
    "driver.set_window_size(2500, 1800)\n",
    "driver.get('../../../thesis/images/heatmap_area_2.html')\n",
    "driver.save_screenshot('../../../thesis/images/heatmap_area_2.png')"
   ]
  },
  {
   "cell_type": "code",
   "execution_count": 34,
   "metadata": {},
   "outputs": [],
   "source": [
    "start_points_string = list(df11[\"start_point\"])\n",
    "end_points_string = list(df11[\"end_point\"])\n",
    "\n",
    "points = []\n",
    "# in csv points are stored as strings\n",
    "for i in range(len(start_points_string)):\n",
    "    p_start = start_points_string[i]\n",
    "    p_0 = (p_start.split(','))[0][1:]\n",
    "    p_1 = (p_start.split(','))[1][1:]\n",
    "    points.append([float(p_0), float(p_1)])"
   ]
  },
  {
   "cell_type": "code",
   "execution_count": 35,
   "metadata": {},
   "outputs": [],
   "source": [
    "m = folium.Map(location=[38, 23.68], zoom_start=12) ## area 11\n",
    "\n",
    "# Plot it on the map\n",
    "HeatMap(points).add_to(m)\n",
    "\n",
    "# Display the map\n",
    "m.save('../../../thesis/images/heatmap_area_11.html')"
   ]
  },
  {
   "cell_type": "code",
   "execution_count": 36,
   "metadata": {},
   "outputs": [
    {
     "data": {
      "text/plain": [
       "True"
      ]
     },
     "execution_count": 36,
     "metadata": {},
     "output_type": "execute_result"
    }
   ],
   "source": [
    "driver.set_window_size(2500, 1800)\n",
    "driver.get('../../../thesis/images/heatmap_area_11.html')\n",
    "driver.save_screenshot('../../../thesis/images/heatmap_area_11.png')"
   ]
  },
  {
   "cell_type": "code",
   "execution_count": null,
   "metadata": {},
   "outputs": [],
   "source": []
  }
 ],
 "metadata": {
  "kernelspec": {
   "display_name": "Python 3",
   "language": "python",
   "name": "python3"
  },
  "language_info": {
   "codemirror_mode": {
    "name": "ipython",
    "version": 3
   },
   "file_extension": ".py",
   "mimetype": "text/x-python",
   "name": "python",
   "nbconvert_exporter": "python",
   "pygments_lexer": "ipython3",
   "version": "3.7.3"
  }
 },
 "nbformat": 4,
 "nbformat_minor": 2
}
